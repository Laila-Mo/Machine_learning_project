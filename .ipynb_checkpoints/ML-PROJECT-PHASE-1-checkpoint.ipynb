{
 "cells": [
  {
   "cell_type": "markdown",
   "id": "d3b2d3e9",
   "metadata": {},
   "source": [
    "# Machine Learning -  Project\n",
    "## Classifier - KNN"
   ]
  },
  {
   "cell_type": "markdown",
   "id": "5e94d801",
   "metadata": {},
   "source": [
    "#### Omar Mohamed Lotfy 18P5606\n",
    "#### Laila Mohamed Aborizka 18P9654"
   ]
  },
  {
   "cell_type": "code",
   "execution_count": 174,
   "id": "f17764ef",
   "metadata": {},
   "outputs": [],
   "source": [
    "import numpy as np\n",
    "import matplotlib.pyplot as plt\n",
    "import pandas as pd"
   ]
  },
  {
   "cell_type": "markdown",
   "id": "c8457820",
   "metadata": {},
   "source": [
    "## Reading data"
   ]
  },
  {
   "cell_type": "code",
   "execution_count": 175,
   "id": "f9efb198",
   "metadata": {},
   "outputs": [
    {
     "data": {
      "text/html": [
       "<div>\n",
       "<style scoped>\n",
       "    .dataframe tbody tr th:only-of-type {\n",
       "        vertical-align: middle;\n",
       "    }\n",
       "\n",
       "    .dataframe tbody tr th {\n",
       "        vertical-align: top;\n",
       "    }\n",
       "\n",
       "    .dataframe thead th {\n",
       "        text-align: right;\n",
       "    }\n",
       "</style>\n",
       "<table border=\"1\" class=\"dataframe\">\n",
       "  <thead>\n",
       "    <tr style=\"text-align: right;\">\n",
       "      <th></th>\n",
       "      <th>location</th>\n",
       "      <th>country</th>\n",
       "      <th>gender</th>\n",
       "      <th>age</th>\n",
       "      <th>vis_wuhan</th>\n",
       "      <th>from_wuhan</th>\n",
       "      <th>symptom1</th>\n",
       "      <th>symptom2</th>\n",
       "      <th>symptom3</th>\n",
       "      <th>symptom4</th>\n",
       "      <th>symptom5</th>\n",
       "      <th>symptom6</th>\n",
       "      <th>diff_sym_hos</th>\n",
       "      <th>result</th>\n",
       "    </tr>\n",
       "  </thead>\n",
       "  <tbody>\n",
       "    <tr>\n",
       "      <th>0</th>\n",
       "      <td>104</td>\n",
       "      <td>8</td>\n",
       "      <td>1</td>\n",
       "      <td>66.0</td>\n",
       "      <td>1</td>\n",
       "      <td>0</td>\n",
       "      <td>14</td>\n",
       "      <td>31</td>\n",
       "      <td>19</td>\n",
       "      <td>12</td>\n",
       "      <td>3</td>\n",
       "      <td>1</td>\n",
       "      <td>8</td>\n",
       "      <td>1</td>\n",
       "    </tr>\n",
       "    <tr>\n",
       "      <th>1</th>\n",
       "      <td>101</td>\n",
       "      <td>8</td>\n",
       "      <td>0</td>\n",
       "      <td>56.0</td>\n",
       "      <td>0</td>\n",
       "      <td>1</td>\n",
       "      <td>14</td>\n",
       "      <td>31</td>\n",
       "      <td>19</td>\n",
       "      <td>12</td>\n",
       "      <td>3</td>\n",
       "      <td>1</td>\n",
       "      <td>0</td>\n",
       "      <td>0</td>\n",
       "    </tr>\n",
       "    <tr>\n",
       "      <th>2</th>\n",
       "      <td>137</td>\n",
       "      <td>8</td>\n",
       "      <td>1</td>\n",
       "      <td>46.0</td>\n",
       "      <td>0</td>\n",
       "      <td>1</td>\n",
       "      <td>14</td>\n",
       "      <td>31</td>\n",
       "      <td>19</td>\n",
       "      <td>12</td>\n",
       "      <td>3</td>\n",
       "      <td>1</td>\n",
       "      <td>13</td>\n",
       "      <td>0</td>\n",
       "    </tr>\n",
       "    <tr>\n",
       "      <th>3</th>\n",
       "      <td>116</td>\n",
       "      <td>8</td>\n",
       "      <td>0</td>\n",
       "      <td>60.0</td>\n",
       "      <td>1</td>\n",
       "      <td>0</td>\n",
       "      <td>14</td>\n",
       "      <td>31</td>\n",
       "      <td>19</td>\n",
       "      <td>12</td>\n",
       "      <td>3</td>\n",
       "      <td>1</td>\n",
       "      <td>0</td>\n",
       "      <td>0</td>\n",
       "    </tr>\n",
       "    <tr>\n",
       "      <th>4</th>\n",
       "      <td>116</td>\n",
       "      <td>8</td>\n",
       "      <td>1</td>\n",
       "      <td>58.0</td>\n",
       "      <td>0</td>\n",
       "      <td>0</td>\n",
       "      <td>14</td>\n",
       "      <td>31</td>\n",
       "      <td>19</td>\n",
       "      <td>12</td>\n",
       "      <td>3</td>\n",
       "      <td>1</td>\n",
       "      <td>0</td>\n",
       "      <td>0</td>\n",
       "    </tr>\n",
       "  </tbody>\n",
       "</table>\n",
       "</div>"
      ],
      "text/plain": [
       "   location  country  gender   age  vis_wuhan  from_wuhan  symptom1  symptom2  \\\n",
       "0       104        8       1  66.0          1           0        14        31   \n",
       "1       101        8       0  56.0          0           1        14        31   \n",
       "2       137        8       1  46.0          0           1        14        31   \n",
       "3       116        8       0  60.0          1           0        14        31   \n",
       "4       116        8       1  58.0          0           0        14        31   \n",
       "\n",
       "   symptom3  symptom4  symptom5  symptom6  diff_sym_hos  result  \n",
       "0        19        12         3         1             8       1  \n",
       "1        19        12         3         1             0       0  \n",
       "2        19        12         3         1            13       0  \n",
       "3        19        12         3         1             0       0  \n",
       "4        19        12         3         1             0       0  "
      ]
     },
     "execution_count": 175,
     "metadata": {},
     "output_type": "execute_result"
    }
   ],
   "source": [
    "# Load the data and show it\n",
    "df =pd.read_csv(\"data.csv\",index_col=0)\n",
    "df.head()"
   ]
  },
  {
   "cell_type": "markdown",
   "id": "51cae54c",
   "metadata": {},
   "source": [
    "Since the country and location are both Nominal data and we want to remove any preferences due to using integer values so we are going to ONE HOT ENCODE these two columns  "
   ]
  },
  {
   "cell_type": "markdown",
   "id": "6b7b18ba",
   "metadata": {},
   "source": [
    "## One Hot Encoding"
   ]
  },
  {
   "cell_type": "code",
   "execution_count": 176,
   "id": "fb812368",
   "metadata": {},
   "outputs": [
    {
     "name": "stdout",
     "output_type": "stream",
     "text": [
      "location -> 139\n",
      "country -> 34\n",
      "gender -> 3\n",
      "age -> 81\n",
      "vis_wuhan -> 2\n",
      "from_wuhan -> 2\n",
      "symptom1 -> 25\n",
      "symptom2 -> 32\n",
      "symptom3 -> 20\n",
      "symptom4 -> 13\n",
      "symptom5 -> 4\n",
      "symptom6 -> 2\n",
      "diff_sym_hos -> 18\n",
      "result -> 2\n"
     ]
    }
   ],
   "source": [
    "# Finding number of unique labels for each feature \n",
    "for column in df.columns:\n",
    "    print(column, '->', len(df[column].unique()))\n"
   ]
  },
  {
   "cell_type": "code",
   "execution_count": 177,
   "id": "3f16c10d",
   "metadata": {},
   "outputs": [
    {
     "data": {
      "text/plain": [
       "(863, 2)"
      ]
     },
     "execution_count": 177,
     "metadata": {},
     "output_type": "execute_result"
    }
   ],
   "source": [
    "# One Hot Encode (location , country)\n",
    "pd.get_dummies(df.iloc[:, 0:2], drop_first=True).shape"
   ]
  },
  {
   "cell_type": "code",
   "execution_count": 178,
   "id": "d0431093",
   "metadata": {},
   "outputs": [
    {
     "data": {
      "text/plain": [
       "108    85\n",
       "45     78\n",
       "44     43\n",
       "114    37\n",
       "110    33\n",
       "99     31\n",
       "106    31\n",
       "116    22\n",
       "85     21\n",
       "117    21\n",
       "135    19\n",
       "13     18\n",
       "78     18\n",
       "51     17\n",
       "121    17\n",
       "10     17\n",
       "12     15\n",
       "128    12\n",
       "19     11\n",
       "9      11\n",
       "Name: location, dtype: int64"
      ]
     },
     "execution_count": 178,
     "metadata": {},
     "output_type": "execute_result"
    }
   ],
   "source": [
    "# Top locations\n",
    "df.location.value_counts().sort_values(ascending=False).head(20)"
   ]
  },
  {
   "cell_type": "code",
   "execution_count": 179,
   "id": "cde7d3c4",
   "metadata": {
    "scrolled": true
   },
   "outputs": [
    {
     "data": {
      "text/plain": [
       "18    172\n",
       "8     155\n",
       "13     90\n",
       "24     86\n",
       "12     54\n",
       "29     37\n",
       "11     35\n",
       "28     33\n",
       "25     32\n",
       "23     31\n",
       "30     17\n",
       "4      17\n",
       "32     15\n",
       "15     14\n",
       "31     14\n",
       "2      11\n",
       "7      10\n",
       "19      9\n",
       "33      8\n",
       "21      4\n",
       "Name: country, dtype: int64"
      ]
     },
     "execution_count": 179,
     "metadata": {},
     "output_type": "execute_result"
    }
   ],
   "source": [
    "# Top countries\n",
    "df.country.value_counts().sort_values(ascending=False).head(20)"
   ]
  },
  {
   "cell_type": "code",
   "execution_count": 180,
   "id": "de91bc1d",
   "metadata": {},
   "outputs": [
    {
     "name": "stdout",
     "output_type": "stream",
     "text": [
      "[108, 45, 44, 114, 110, 99, 106, 116, 85, 117, 135, 13, 78, 51, 121, 10, 12, 128, 19, 9]\n"
     ]
    }
   ],
   "source": [
    "# List top locations\n",
    "top_locations = [x for x in df.location.value_counts().sort_values(ascending=False).head(20).index]\n",
    "print(top_locations)"
   ]
  },
  {
   "cell_type": "code",
   "execution_count": 181,
   "id": "2d314a67",
   "metadata": {},
   "outputs": [],
   "source": [
    "for label in top_locations:\n",
    "    df[\"L\"+str(int(label))]=np.where(df['location']==label,1,0)"
   ]
  },
  {
   "cell_type": "code",
   "execution_count": 182,
   "id": "c4c29582",
   "metadata": {},
   "outputs": [
    {
     "name": "stdout",
     "output_type": "stream",
     "text": [
      "[18, 8, 13, 24, 12, 29, 11, 28, 25, 23, 30, 4, 32, 15, 31, 2, 7, 19, 33, 21]\n"
     ]
    }
   ],
   "source": [
    "# List top countries\n",
    "top_countries = [y for y in df.country.value_counts().sort_values(ascending=False).head(20).index]\n",
    "print(top_countries)"
   ]
  },
  {
   "cell_type": "code",
   "execution_count": 183,
   "id": "df267656",
   "metadata": {},
   "outputs": [
    {
     "data": {
      "text/html": [
       "<div>\n",
       "<style scoped>\n",
       "    .dataframe tbody tr th:only-of-type {\n",
       "        vertical-align: middle;\n",
       "    }\n",
       "\n",
       "    .dataframe tbody tr th {\n",
       "        vertical-align: top;\n",
       "    }\n",
       "\n",
       "    .dataframe thead th {\n",
       "        text-align: right;\n",
       "    }\n",
       "</style>\n",
       "<table border=\"1\" class=\"dataframe\">\n",
       "  <thead>\n",
       "    <tr style=\"text-align: right;\">\n",
       "      <th></th>\n",
       "      <th>location</th>\n",
       "      <th>country</th>\n",
       "      <th>gender</th>\n",
       "      <th>age</th>\n",
       "      <th>vis_wuhan</th>\n",
       "      <th>from_wuhan</th>\n",
       "      <th>symptom1</th>\n",
       "      <th>symptom2</th>\n",
       "      <th>symptom3</th>\n",
       "      <th>symptom4</th>\n",
       "      <th>symptom5</th>\n",
       "      <th>symptom6</th>\n",
       "      <th>diff_sym_hos</th>\n",
       "      <th>result</th>\n",
       "      <th>L108</th>\n",
       "      <th>L45</th>\n",
       "      <th>L44</th>\n",
       "      <th>L114</th>\n",
       "      <th>L110</th>\n",
       "      <th>L99</th>\n",
       "      <th>L106</th>\n",
       "      <th>L116</th>\n",
       "      <th>L85</th>\n",
       "      <th>L117</th>\n",
       "      <th>L135</th>\n",
       "      <th>L13</th>\n",
       "      <th>L78</th>\n",
       "      <th>L51</th>\n",
       "      <th>L121</th>\n",
       "      <th>L10</th>\n",
       "      <th>L12</th>\n",
       "      <th>L128</th>\n",
       "      <th>L19</th>\n",
       "      <th>L9</th>\n",
       "      <th>C18</th>\n",
       "      <th>C8</th>\n",
       "      <th>C13</th>\n",
       "      <th>C24</th>\n",
       "      <th>C12</th>\n",
       "      <th>C29</th>\n",
       "      <th>C11</th>\n",
       "      <th>C28</th>\n",
       "      <th>C25</th>\n",
       "      <th>C23</th>\n",
       "      <th>C30</th>\n",
       "      <th>C4</th>\n",
       "      <th>C32</th>\n",
       "      <th>C15</th>\n",
       "      <th>C31</th>\n",
       "      <th>C2</th>\n",
       "      <th>C7</th>\n",
       "      <th>C19</th>\n",
       "      <th>C33</th>\n",
       "      <th>C21</th>\n",
       "    </tr>\n",
       "  </thead>\n",
       "  <tbody>\n",
       "    <tr>\n",
       "      <th>0</th>\n",
       "      <td>104</td>\n",
       "      <td>8</td>\n",
       "      <td>1</td>\n",
       "      <td>66.0</td>\n",
       "      <td>1</td>\n",
       "      <td>0</td>\n",
       "      <td>14</td>\n",
       "      <td>31</td>\n",
       "      <td>19</td>\n",
       "      <td>12</td>\n",
       "      <td>3</td>\n",
       "      <td>1</td>\n",
       "      <td>8</td>\n",
       "      <td>1</td>\n",
       "      <td>0</td>\n",
       "      <td>0</td>\n",
       "      <td>0</td>\n",
       "      <td>0</td>\n",
       "      <td>0</td>\n",
       "      <td>0</td>\n",
       "      <td>0</td>\n",
       "      <td>0</td>\n",
       "      <td>0</td>\n",
       "      <td>0</td>\n",
       "      <td>0</td>\n",
       "      <td>0</td>\n",
       "      <td>0</td>\n",
       "      <td>0</td>\n",
       "      <td>0</td>\n",
       "      <td>0</td>\n",
       "      <td>0</td>\n",
       "      <td>0</td>\n",
       "      <td>0</td>\n",
       "      <td>0</td>\n",
       "      <td>0</td>\n",
       "      <td>1</td>\n",
       "      <td>0</td>\n",
       "      <td>0</td>\n",
       "      <td>0</td>\n",
       "      <td>0</td>\n",
       "      <td>0</td>\n",
       "      <td>0</td>\n",
       "      <td>0</td>\n",
       "      <td>0</td>\n",
       "      <td>0</td>\n",
       "      <td>0</td>\n",
       "      <td>0</td>\n",
       "      <td>0</td>\n",
       "      <td>0</td>\n",
       "      <td>0</td>\n",
       "      <td>0</td>\n",
       "      <td>0</td>\n",
       "      <td>0</td>\n",
       "      <td>0</td>\n",
       "    </tr>\n",
       "    <tr>\n",
       "      <th>1</th>\n",
       "      <td>101</td>\n",
       "      <td>8</td>\n",
       "      <td>0</td>\n",
       "      <td>56.0</td>\n",
       "      <td>0</td>\n",
       "      <td>1</td>\n",
       "      <td>14</td>\n",
       "      <td>31</td>\n",
       "      <td>19</td>\n",
       "      <td>12</td>\n",
       "      <td>3</td>\n",
       "      <td>1</td>\n",
       "      <td>0</td>\n",
       "      <td>0</td>\n",
       "      <td>0</td>\n",
       "      <td>0</td>\n",
       "      <td>0</td>\n",
       "      <td>0</td>\n",
       "      <td>0</td>\n",
       "      <td>0</td>\n",
       "      <td>0</td>\n",
       "      <td>0</td>\n",
       "      <td>0</td>\n",
       "      <td>0</td>\n",
       "      <td>0</td>\n",
       "      <td>0</td>\n",
       "      <td>0</td>\n",
       "      <td>0</td>\n",
       "      <td>0</td>\n",
       "      <td>0</td>\n",
       "      <td>0</td>\n",
       "      <td>0</td>\n",
       "      <td>0</td>\n",
       "      <td>0</td>\n",
       "      <td>0</td>\n",
       "      <td>1</td>\n",
       "      <td>0</td>\n",
       "      <td>0</td>\n",
       "      <td>0</td>\n",
       "      <td>0</td>\n",
       "      <td>0</td>\n",
       "      <td>0</td>\n",
       "      <td>0</td>\n",
       "      <td>0</td>\n",
       "      <td>0</td>\n",
       "      <td>0</td>\n",
       "      <td>0</td>\n",
       "      <td>0</td>\n",
       "      <td>0</td>\n",
       "      <td>0</td>\n",
       "      <td>0</td>\n",
       "      <td>0</td>\n",
       "      <td>0</td>\n",
       "      <td>0</td>\n",
       "    </tr>\n",
       "    <tr>\n",
       "      <th>2</th>\n",
       "      <td>137</td>\n",
       "      <td>8</td>\n",
       "      <td>1</td>\n",
       "      <td>46.0</td>\n",
       "      <td>0</td>\n",
       "      <td>1</td>\n",
       "      <td>14</td>\n",
       "      <td>31</td>\n",
       "      <td>19</td>\n",
       "      <td>12</td>\n",
       "      <td>3</td>\n",
       "      <td>1</td>\n",
       "      <td>13</td>\n",
       "      <td>0</td>\n",
       "      <td>0</td>\n",
       "      <td>0</td>\n",
       "      <td>0</td>\n",
       "      <td>0</td>\n",
       "      <td>0</td>\n",
       "      <td>0</td>\n",
       "      <td>0</td>\n",
       "      <td>0</td>\n",
       "      <td>0</td>\n",
       "      <td>0</td>\n",
       "      <td>0</td>\n",
       "      <td>0</td>\n",
       "      <td>0</td>\n",
       "      <td>0</td>\n",
       "      <td>0</td>\n",
       "      <td>0</td>\n",
       "      <td>0</td>\n",
       "      <td>0</td>\n",
       "      <td>0</td>\n",
       "      <td>0</td>\n",
       "      <td>0</td>\n",
       "      <td>1</td>\n",
       "      <td>0</td>\n",
       "      <td>0</td>\n",
       "      <td>0</td>\n",
       "      <td>0</td>\n",
       "      <td>0</td>\n",
       "      <td>0</td>\n",
       "      <td>0</td>\n",
       "      <td>0</td>\n",
       "      <td>0</td>\n",
       "      <td>0</td>\n",
       "      <td>0</td>\n",
       "      <td>0</td>\n",
       "      <td>0</td>\n",
       "      <td>0</td>\n",
       "      <td>0</td>\n",
       "      <td>0</td>\n",
       "      <td>0</td>\n",
       "      <td>0</td>\n",
       "    </tr>\n",
       "    <tr>\n",
       "      <th>3</th>\n",
       "      <td>116</td>\n",
       "      <td>8</td>\n",
       "      <td>0</td>\n",
       "      <td>60.0</td>\n",
       "      <td>1</td>\n",
       "      <td>0</td>\n",
       "      <td>14</td>\n",
       "      <td>31</td>\n",
       "      <td>19</td>\n",
       "      <td>12</td>\n",
       "      <td>3</td>\n",
       "      <td>1</td>\n",
       "      <td>0</td>\n",
       "      <td>0</td>\n",
       "      <td>0</td>\n",
       "      <td>0</td>\n",
       "      <td>0</td>\n",
       "      <td>0</td>\n",
       "      <td>0</td>\n",
       "      <td>0</td>\n",
       "      <td>0</td>\n",
       "      <td>1</td>\n",
       "      <td>0</td>\n",
       "      <td>0</td>\n",
       "      <td>0</td>\n",
       "      <td>0</td>\n",
       "      <td>0</td>\n",
       "      <td>0</td>\n",
       "      <td>0</td>\n",
       "      <td>0</td>\n",
       "      <td>0</td>\n",
       "      <td>0</td>\n",
       "      <td>0</td>\n",
       "      <td>0</td>\n",
       "      <td>0</td>\n",
       "      <td>1</td>\n",
       "      <td>0</td>\n",
       "      <td>0</td>\n",
       "      <td>0</td>\n",
       "      <td>0</td>\n",
       "      <td>0</td>\n",
       "      <td>0</td>\n",
       "      <td>0</td>\n",
       "      <td>0</td>\n",
       "      <td>0</td>\n",
       "      <td>0</td>\n",
       "      <td>0</td>\n",
       "      <td>0</td>\n",
       "      <td>0</td>\n",
       "      <td>0</td>\n",
       "      <td>0</td>\n",
       "      <td>0</td>\n",
       "      <td>0</td>\n",
       "      <td>0</td>\n",
       "    </tr>\n",
       "    <tr>\n",
       "      <th>4</th>\n",
       "      <td>116</td>\n",
       "      <td>8</td>\n",
       "      <td>1</td>\n",
       "      <td>58.0</td>\n",
       "      <td>0</td>\n",
       "      <td>0</td>\n",
       "      <td>14</td>\n",
       "      <td>31</td>\n",
       "      <td>19</td>\n",
       "      <td>12</td>\n",
       "      <td>3</td>\n",
       "      <td>1</td>\n",
       "      <td>0</td>\n",
       "      <td>0</td>\n",
       "      <td>0</td>\n",
       "      <td>0</td>\n",
       "      <td>0</td>\n",
       "      <td>0</td>\n",
       "      <td>0</td>\n",
       "      <td>0</td>\n",
       "      <td>0</td>\n",
       "      <td>1</td>\n",
       "      <td>0</td>\n",
       "      <td>0</td>\n",
       "      <td>0</td>\n",
       "      <td>0</td>\n",
       "      <td>0</td>\n",
       "      <td>0</td>\n",
       "      <td>0</td>\n",
       "      <td>0</td>\n",
       "      <td>0</td>\n",
       "      <td>0</td>\n",
       "      <td>0</td>\n",
       "      <td>0</td>\n",
       "      <td>0</td>\n",
       "      <td>1</td>\n",
       "      <td>0</td>\n",
       "      <td>0</td>\n",
       "      <td>0</td>\n",
       "      <td>0</td>\n",
       "      <td>0</td>\n",
       "      <td>0</td>\n",
       "      <td>0</td>\n",
       "      <td>0</td>\n",
       "      <td>0</td>\n",
       "      <td>0</td>\n",
       "      <td>0</td>\n",
       "      <td>0</td>\n",
       "      <td>0</td>\n",
       "      <td>0</td>\n",
       "      <td>0</td>\n",
       "      <td>0</td>\n",
       "      <td>0</td>\n",
       "      <td>0</td>\n",
       "    </tr>\n",
       "  </tbody>\n",
       "</table>\n",
       "</div>"
      ],
      "text/plain": [
       "   location  country  gender   age  vis_wuhan  from_wuhan  symptom1  symptom2  \\\n",
       "0       104        8       1  66.0          1           0        14        31   \n",
       "1       101        8       0  56.0          0           1        14        31   \n",
       "2       137        8       1  46.0          0           1        14        31   \n",
       "3       116        8       0  60.0          1           0        14        31   \n",
       "4       116        8       1  58.0          0           0        14        31   \n",
       "\n",
       "   symptom3  symptom4  symptom5  symptom6  diff_sym_hos  result  L108  L45  \\\n",
       "0        19        12         3         1             8       1     0    0   \n",
       "1        19        12         3         1             0       0     0    0   \n",
       "2        19        12         3         1            13       0     0    0   \n",
       "3        19        12         3         1             0       0     0    0   \n",
       "4        19        12         3         1             0       0     0    0   \n",
       "\n",
       "   L44  L114  L110  L99  L106  L116  L85  L117  L135  L13  L78  L51  L121  \\\n",
       "0    0     0     0    0     0     0    0     0     0    0    0    0     0   \n",
       "1    0     0     0    0     0     0    0     0     0    0    0    0     0   \n",
       "2    0     0     0    0     0     0    0     0     0    0    0    0     0   \n",
       "3    0     0     0    0     0     1    0     0     0    0    0    0     0   \n",
       "4    0     0     0    0     0     1    0     0     0    0    0    0     0   \n",
       "\n",
       "   L10  L12  L128  L19  L9  C18  C8  C13  C24  C12  C29  C11  C28  C25  C23  \\\n",
       "0    0    0     0    0   0    0   1    0    0    0    0    0    0    0    0   \n",
       "1    0    0     0    0   0    0   1    0    0    0    0    0    0    0    0   \n",
       "2    0    0     0    0   0    0   1    0    0    0    0    0    0    0    0   \n",
       "3    0    0     0    0   0    0   1    0    0    0    0    0    0    0    0   \n",
       "4    0    0     0    0   0    0   1    0    0    0    0    0    0    0    0   \n",
       "\n",
       "   C30  C4  C32  C15  C31  C2  C7  C19  C33  C21  \n",
       "0    0   0    0    0    0   0   0    0    0    0  \n",
       "1    0   0    0    0    0   0   0    0    0    0  \n",
       "2    0   0    0    0    0   0   0    0    0    0  \n",
       "3    0   0    0    0    0   0   0    0    0    0  \n",
       "4    0   0    0    0    0   0   0    0    0    0  "
      ]
     },
     "execution_count": 183,
     "metadata": {},
     "output_type": "execute_result"
    }
   ],
   "source": [
    "pd.set_option('display.max_columns', 100)\n",
    "for label in top_countries:\n",
    "    df[\"C\"+str(int(label))]=np.where(df['country']==label,1,0)\n",
    "df.head()"
   ]
  },
  {
   "cell_type": "code",
   "execution_count": 184,
   "id": "5bc8f4a5",
   "metadata": {
    "scrolled": true
   },
   "outputs": [
    {
     "data": {
      "text/html": [
       "<div>\n",
       "<style scoped>\n",
       "    .dataframe tbody tr th:only-of-type {\n",
       "        vertical-align: middle;\n",
       "    }\n",
       "\n",
       "    .dataframe tbody tr th {\n",
       "        vertical-align: top;\n",
       "    }\n",
       "\n",
       "    .dataframe thead th {\n",
       "        text-align: right;\n",
       "    }\n",
       "</style>\n",
       "<table border=\"1\" class=\"dataframe\">\n",
       "  <thead>\n",
       "    <tr style=\"text-align: right;\">\n",
       "      <th></th>\n",
       "      <th>gender</th>\n",
       "      <th>age</th>\n",
       "      <th>vis_wuhan</th>\n",
       "      <th>from_wuhan</th>\n",
       "      <th>symptom1</th>\n",
       "      <th>symptom2</th>\n",
       "      <th>symptom3</th>\n",
       "      <th>symptom4</th>\n",
       "      <th>symptom5</th>\n",
       "      <th>symptom6</th>\n",
       "      <th>diff_sym_hos</th>\n",
       "      <th>result</th>\n",
       "      <th>L108</th>\n",
       "      <th>L45</th>\n",
       "      <th>L44</th>\n",
       "      <th>L114</th>\n",
       "      <th>L110</th>\n",
       "      <th>L99</th>\n",
       "      <th>L106</th>\n",
       "      <th>L116</th>\n",
       "      <th>L85</th>\n",
       "      <th>L117</th>\n",
       "      <th>L135</th>\n",
       "      <th>L13</th>\n",
       "      <th>L78</th>\n",
       "      <th>L51</th>\n",
       "      <th>L121</th>\n",
       "      <th>L10</th>\n",
       "      <th>L12</th>\n",
       "      <th>L128</th>\n",
       "      <th>L19</th>\n",
       "      <th>L9</th>\n",
       "      <th>C18</th>\n",
       "      <th>C8</th>\n",
       "      <th>C13</th>\n",
       "      <th>C24</th>\n",
       "      <th>C12</th>\n",
       "      <th>C29</th>\n",
       "      <th>C11</th>\n",
       "      <th>C28</th>\n",
       "      <th>C25</th>\n",
       "      <th>C23</th>\n",
       "      <th>C30</th>\n",
       "      <th>C4</th>\n",
       "      <th>C32</th>\n",
       "      <th>C15</th>\n",
       "      <th>C31</th>\n",
       "      <th>C2</th>\n",
       "      <th>C7</th>\n",
       "      <th>C19</th>\n",
       "      <th>C33</th>\n",
       "      <th>C21</th>\n",
       "    </tr>\n",
       "  </thead>\n",
       "  <tbody>\n",
       "    <tr>\n",
       "      <th>0</th>\n",
       "      <td>1</td>\n",
       "      <td>66.0</td>\n",
       "      <td>1</td>\n",
       "      <td>0</td>\n",
       "      <td>14</td>\n",
       "      <td>31</td>\n",
       "      <td>19</td>\n",
       "      <td>12</td>\n",
       "      <td>3</td>\n",
       "      <td>1</td>\n",
       "      <td>8</td>\n",
       "      <td>1</td>\n",
       "      <td>0</td>\n",
       "      <td>0</td>\n",
       "      <td>0</td>\n",
       "      <td>0</td>\n",
       "      <td>0</td>\n",
       "      <td>0</td>\n",
       "      <td>0</td>\n",
       "      <td>0</td>\n",
       "      <td>0</td>\n",
       "      <td>0</td>\n",
       "      <td>0</td>\n",
       "      <td>0</td>\n",
       "      <td>0</td>\n",
       "      <td>0</td>\n",
       "      <td>0</td>\n",
       "      <td>0</td>\n",
       "      <td>0</td>\n",
       "      <td>0</td>\n",
       "      <td>0</td>\n",
       "      <td>0</td>\n",
       "      <td>0</td>\n",
       "      <td>1</td>\n",
       "      <td>0</td>\n",
       "      <td>0</td>\n",
       "      <td>0</td>\n",
       "      <td>0</td>\n",
       "      <td>0</td>\n",
       "      <td>0</td>\n",
       "      <td>0</td>\n",
       "      <td>0</td>\n",
       "      <td>0</td>\n",
       "      <td>0</td>\n",
       "      <td>0</td>\n",
       "      <td>0</td>\n",
       "      <td>0</td>\n",
       "      <td>0</td>\n",
       "      <td>0</td>\n",
       "      <td>0</td>\n",
       "      <td>0</td>\n",
       "      <td>0</td>\n",
       "    </tr>\n",
       "    <tr>\n",
       "      <th>1</th>\n",
       "      <td>0</td>\n",
       "      <td>56.0</td>\n",
       "      <td>0</td>\n",
       "      <td>1</td>\n",
       "      <td>14</td>\n",
       "      <td>31</td>\n",
       "      <td>19</td>\n",
       "      <td>12</td>\n",
       "      <td>3</td>\n",
       "      <td>1</td>\n",
       "      <td>0</td>\n",
       "      <td>0</td>\n",
       "      <td>0</td>\n",
       "      <td>0</td>\n",
       "      <td>0</td>\n",
       "      <td>0</td>\n",
       "      <td>0</td>\n",
       "      <td>0</td>\n",
       "      <td>0</td>\n",
       "      <td>0</td>\n",
       "      <td>0</td>\n",
       "      <td>0</td>\n",
       "      <td>0</td>\n",
       "      <td>0</td>\n",
       "      <td>0</td>\n",
       "      <td>0</td>\n",
       "      <td>0</td>\n",
       "      <td>0</td>\n",
       "      <td>0</td>\n",
       "      <td>0</td>\n",
       "      <td>0</td>\n",
       "      <td>0</td>\n",
       "      <td>0</td>\n",
       "      <td>1</td>\n",
       "      <td>0</td>\n",
       "      <td>0</td>\n",
       "      <td>0</td>\n",
       "      <td>0</td>\n",
       "      <td>0</td>\n",
       "      <td>0</td>\n",
       "      <td>0</td>\n",
       "      <td>0</td>\n",
       "      <td>0</td>\n",
       "      <td>0</td>\n",
       "      <td>0</td>\n",
       "      <td>0</td>\n",
       "      <td>0</td>\n",
       "      <td>0</td>\n",
       "      <td>0</td>\n",
       "      <td>0</td>\n",
       "      <td>0</td>\n",
       "      <td>0</td>\n",
       "    </tr>\n",
       "    <tr>\n",
       "      <th>2</th>\n",
       "      <td>1</td>\n",
       "      <td>46.0</td>\n",
       "      <td>0</td>\n",
       "      <td>1</td>\n",
       "      <td>14</td>\n",
       "      <td>31</td>\n",
       "      <td>19</td>\n",
       "      <td>12</td>\n",
       "      <td>3</td>\n",
       "      <td>1</td>\n",
       "      <td>13</td>\n",
       "      <td>0</td>\n",
       "      <td>0</td>\n",
       "      <td>0</td>\n",
       "      <td>0</td>\n",
       "      <td>0</td>\n",
       "      <td>0</td>\n",
       "      <td>0</td>\n",
       "      <td>0</td>\n",
       "      <td>0</td>\n",
       "      <td>0</td>\n",
       "      <td>0</td>\n",
       "      <td>0</td>\n",
       "      <td>0</td>\n",
       "      <td>0</td>\n",
       "      <td>0</td>\n",
       "      <td>0</td>\n",
       "      <td>0</td>\n",
       "      <td>0</td>\n",
       "      <td>0</td>\n",
       "      <td>0</td>\n",
       "      <td>0</td>\n",
       "      <td>0</td>\n",
       "      <td>1</td>\n",
       "      <td>0</td>\n",
       "      <td>0</td>\n",
       "      <td>0</td>\n",
       "      <td>0</td>\n",
       "      <td>0</td>\n",
       "      <td>0</td>\n",
       "      <td>0</td>\n",
       "      <td>0</td>\n",
       "      <td>0</td>\n",
       "      <td>0</td>\n",
       "      <td>0</td>\n",
       "      <td>0</td>\n",
       "      <td>0</td>\n",
       "      <td>0</td>\n",
       "      <td>0</td>\n",
       "      <td>0</td>\n",
       "      <td>0</td>\n",
       "      <td>0</td>\n",
       "    </tr>\n",
       "    <tr>\n",
       "      <th>3</th>\n",
       "      <td>0</td>\n",
       "      <td>60.0</td>\n",
       "      <td>1</td>\n",
       "      <td>0</td>\n",
       "      <td>14</td>\n",
       "      <td>31</td>\n",
       "      <td>19</td>\n",
       "      <td>12</td>\n",
       "      <td>3</td>\n",
       "      <td>1</td>\n",
       "      <td>0</td>\n",
       "      <td>0</td>\n",
       "      <td>0</td>\n",
       "      <td>0</td>\n",
       "      <td>0</td>\n",
       "      <td>0</td>\n",
       "      <td>0</td>\n",
       "      <td>0</td>\n",
       "      <td>0</td>\n",
       "      <td>1</td>\n",
       "      <td>0</td>\n",
       "      <td>0</td>\n",
       "      <td>0</td>\n",
       "      <td>0</td>\n",
       "      <td>0</td>\n",
       "      <td>0</td>\n",
       "      <td>0</td>\n",
       "      <td>0</td>\n",
       "      <td>0</td>\n",
       "      <td>0</td>\n",
       "      <td>0</td>\n",
       "      <td>0</td>\n",
       "      <td>0</td>\n",
       "      <td>1</td>\n",
       "      <td>0</td>\n",
       "      <td>0</td>\n",
       "      <td>0</td>\n",
       "      <td>0</td>\n",
       "      <td>0</td>\n",
       "      <td>0</td>\n",
       "      <td>0</td>\n",
       "      <td>0</td>\n",
       "      <td>0</td>\n",
       "      <td>0</td>\n",
       "      <td>0</td>\n",
       "      <td>0</td>\n",
       "      <td>0</td>\n",
       "      <td>0</td>\n",
       "      <td>0</td>\n",
       "      <td>0</td>\n",
       "      <td>0</td>\n",
       "      <td>0</td>\n",
       "    </tr>\n",
       "    <tr>\n",
       "      <th>4</th>\n",
       "      <td>1</td>\n",
       "      <td>58.0</td>\n",
       "      <td>0</td>\n",
       "      <td>0</td>\n",
       "      <td>14</td>\n",
       "      <td>31</td>\n",
       "      <td>19</td>\n",
       "      <td>12</td>\n",
       "      <td>3</td>\n",
       "      <td>1</td>\n",
       "      <td>0</td>\n",
       "      <td>0</td>\n",
       "      <td>0</td>\n",
       "      <td>0</td>\n",
       "      <td>0</td>\n",
       "      <td>0</td>\n",
       "      <td>0</td>\n",
       "      <td>0</td>\n",
       "      <td>0</td>\n",
       "      <td>1</td>\n",
       "      <td>0</td>\n",
       "      <td>0</td>\n",
       "      <td>0</td>\n",
       "      <td>0</td>\n",
       "      <td>0</td>\n",
       "      <td>0</td>\n",
       "      <td>0</td>\n",
       "      <td>0</td>\n",
       "      <td>0</td>\n",
       "      <td>0</td>\n",
       "      <td>0</td>\n",
       "      <td>0</td>\n",
       "      <td>0</td>\n",
       "      <td>1</td>\n",
       "      <td>0</td>\n",
       "      <td>0</td>\n",
       "      <td>0</td>\n",
       "      <td>0</td>\n",
       "      <td>0</td>\n",
       "      <td>0</td>\n",
       "      <td>0</td>\n",
       "      <td>0</td>\n",
       "      <td>0</td>\n",
       "      <td>0</td>\n",
       "      <td>0</td>\n",
       "      <td>0</td>\n",
       "      <td>0</td>\n",
       "      <td>0</td>\n",
       "      <td>0</td>\n",
       "      <td>0</td>\n",
       "      <td>0</td>\n",
       "      <td>0</td>\n",
       "    </tr>\n",
       "  </tbody>\n",
       "</table>\n",
       "</div>"
      ],
      "text/plain": [
       "   gender   age  vis_wuhan  from_wuhan  symptom1  symptom2  symptom3  \\\n",
       "0       1  66.0          1           0        14        31        19   \n",
       "1       0  56.0          0           1        14        31        19   \n",
       "2       1  46.0          0           1        14        31        19   \n",
       "3       0  60.0          1           0        14        31        19   \n",
       "4       1  58.0          0           0        14        31        19   \n",
       "\n",
       "   symptom4  symptom5  symptom6  diff_sym_hos  result  L108  L45  L44  L114  \\\n",
       "0        12         3         1             8       1     0    0    0     0   \n",
       "1        12         3         1             0       0     0    0    0     0   \n",
       "2        12         3         1            13       0     0    0    0     0   \n",
       "3        12         3         1             0       0     0    0    0     0   \n",
       "4        12         3         1             0       0     0    0    0     0   \n",
       "\n",
       "   L110  L99  L106  L116  L85  L117  L135  L13  L78  L51  L121  L10  L12  \\\n",
       "0     0    0     0     0    0     0     0    0    0    0     0    0    0   \n",
       "1     0    0     0     0    0     0     0    0    0    0     0    0    0   \n",
       "2     0    0     0     0    0     0     0    0    0    0     0    0    0   \n",
       "3     0    0     0     1    0     0     0    0    0    0     0    0    0   \n",
       "4     0    0     0     1    0     0     0    0    0    0     0    0    0   \n",
       "\n",
       "   L128  L19  L9  C18  C8  C13  C24  C12  C29  C11  C28  C25  C23  C30  C4  \\\n",
       "0     0    0   0    0   1    0    0    0    0    0    0    0    0    0   0   \n",
       "1     0    0   0    0   1    0    0    0    0    0    0    0    0    0   0   \n",
       "2     0    0   0    0   1    0    0    0    0    0    0    0    0    0   0   \n",
       "3     0    0   0    0   1    0    0    0    0    0    0    0    0    0   0   \n",
       "4     0    0   0    0   1    0    0    0    0    0    0    0    0    0   0   \n",
       "\n",
       "   C32  C15  C31  C2  C7  C19  C33  C21  \n",
       "0    0    0    0   0   0    0    0    0  \n",
       "1    0    0    0   0   0    0    0    0  \n",
       "2    0    0    0   0   0    0    0    0  \n",
       "3    0    0    0   0   0    0    0    0  \n",
       "4    0    0    0   0   0    0    0    0  "
      ]
     },
     "execution_count": 184,
     "metadata": {},
     "output_type": "execute_result"
    }
   ],
   "source": [
    "df=df.drop(['country'],axis=1)\n",
    "df=df.drop(['location'],axis=1)\n",
    "df.head()"
   ]
  },
  {
   "cell_type": "code",
   "execution_count": 185,
   "id": "8092477d",
   "metadata": {},
   "outputs": [
    {
     "data": {
      "text/html": [
       "<div>\n",
       "<style scoped>\n",
       "    .dataframe tbody tr th:only-of-type {\n",
       "        vertical-align: middle;\n",
       "    }\n",
       "\n",
       "    .dataframe tbody tr th {\n",
       "        vertical-align: top;\n",
       "    }\n",
       "\n",
       "    .dataframe thead th {\n",
       "        text-align: right;\n",
       "    }\n",
       "</style>\n",
       "<table border=\"1\" class=\"dataframe\">\n",
       "  <thead>\n",
       "    <tr style=\"text-align: right;\">\n",
       "      <th></th>\n",
       "      <th>L108</th>\n",
       "      <th>L45</th>\n",
       "      <th>L44</th>\n",
       "      <th>L114</th>\n",
       "      <th>L110</th>\n",
       "      <th>L99</th>\n",
       "      <th>L106</th>\n",
       "      <th>L116</th>\n",
       "      <th>L85</th>\n",
       "      <th>L117</th>\n",
       "      <th>L135</th>\n",
       "      <th>L13</th>\n",
       "      <th>L78</th>\n",
       "      <th>L51</th>\n",
       "      <th>L121</th>\n",
       "      <th>L10</th>\n",
       "      <th>L12</th>\n",
       "      <th>L128</th>\n",
       "      <th>L19</th>\n",
       "      <th>L9</th>\n",
       "      <th>C18</th>\n",
       "      <th>C8</th>\n",
       "      <th>C13</th>\n",
       "      <th>C24</th>\n",
       "      <th>C12</th>\n",
       "      <th>C29</th>\n",
       "      <th>C11</th>\n",
       "      <th>C28</th>\n",
       "      <th>C25</th>\n",
       "      <th>C23</th>\n",
       "      <th>C30</th>\n",
       "      <th>C4</th>\n",
       "      <th>C32</th>\n",
       "      <th>C15</th>\n",
       "      <th>C31</th>\n",
       "      <th>C2</th>\n",
       "      <th>C7</th>\n",
       "      <th>C19</th>\n",
       "      <th>C33</th>\n",
       "      <th>C21</th>\n",
       "      <th>gender</th>\n",
       "      <th>age</th>\n",
       "      <th>vis_wuhan</th>\n",
       "      <th>from_wuhan</th>\n",
       "      <th>symptom1</th>\n",
       "      <th>symptom2</th>\n",
       "      <th>symptom3</th>\n",
       "      <th>symptom4</th>\n",
       "      <th>symptom5</th>\n",
       "      <th>symptom6</th>\n",
       "      <th>diff_sym_hos</th>\n",
       "      <th>result</th>\n",
       "    </tr>\n",
       "  </thead>\n",
       "  <tbody>\n",
       "    <tr>\n",
       "      <th>0</th>\n",
       "      <td>0</td>\n",
       "      <td>0</td>\n",
       "      <td>0</td>\n",
       "      <td>0</td>\n",
       "      <td>0</td>\n",
       "      <td>0</td>\n",
       "      <td>0</td>\n",
       "      <td>0</td>\n",
       "      <td>0</td>\n",
       "      <td>0</td>\n",
       "      <td>0</td>\n",
       "      <td>0</td>\n",
       "      <td>0</td>\n",
       "      <td>0</td>\n",
       "      <td>0</td>\n",
       "      <td>0</td>\n",
       "      <td>0</td>\n",
       "      <td>0</td>\n",
       "      <td>0</td>\n",
       "      <td>0</td>\n",
       "      <td>0</td>\n",
       "      <td>1</td>\n",
       "      <td>0</td>\n",
       "      <td>0</td>\n",
       "      <td>0</td>\n",
       "      <td>0</td>\n",
       "      <td>0</td>\n",
       "      <td>0</td>\n",
       "      <td>0</td>\n",
       "      <td>0</td>\n",
       "      <td>0</td>\n",
       "      <td>0</td>\n",
       "      <td>0</td>\n",
       "      <td>0</td>\n",
       "      <td>0</td>\n",
       "      <td>0</td>\n",
       "      <td>0</td>\n",
       "      <td>0</td>\n",
       "      <td>0</td>\n",
       "      <td>0</td>\n",
       "      <td>1</td>\n",
       "      <td>66.0</td>\n",
       "      <td>1</td>\n",
       "      <td>0</td>\n",
       "      <td>14</td>\n",
       "      <td>31</td>\n",
       "      <td>19</td>\n",
       "      <td>12</td>\n",
       "      <td>3</td>\n",
       "      <td>1</td>\n",
       "      <td>8</td>\n",
       "      <td>1</td>\n",
       "    </tr>\n",
       "    <tr>\n",
       "      <th>1</th>\n",
       "      <td>0</td>\n",
       "      <td>0</td>\n",
       "      <td>0</td>\n",
       "      <td>0</td>\n",
       "      <td>0</td>\n",
       "      <td>0</td>\n",
       "      <td>0</td>\n",
       "      <td>0</td>\n",
       "      <td>0</td>\n",
       "      <td>0</td>\n",
       "      <td>0</td>\n",
       "      <td>0</td>\n",
       "      <td>0</td>\n",
       "      <td>0</td>\n",
       "      <td>0</td>\n",
       "      <td>0</td>\n",
       "      <td>0</td>\n",
       "      <td>0</td>\n",
       "      <td>0</td>\n",
       "      <td>0</td>\n",
       "      <td>0</td>\n",
       "      <td>1</td>\n",
       "      <td>0</td>\n",
       "      <td>0</td>\n",
       "      <td>0</td>\n",
       "      <td>0</td>\n",
       "      <td>0</td>\n",
       "      <td>0</td>\n",
       "      <td>0</td>\n",
       "      <td>0</td>\n",
       "      <td>0</td>\n",
       "      <td>0</td>\n",
       "      <td>0</td>\n",
       "      <td>0</td>\n",
       "      <td>0</td>\n",
       "      <td>0</td>\n",
       "      <td>0</td>\n",
       "      <td>0</td>\n",
       "      <td>0</td>\n",
       "      <td>0</td>\n",
       "      <td>0</td>\n",
       "      <td>56.0</td>\n",
       "      <td>0</td>\n",
       "      <td>1</td>\n",
       "      <td>14</td>\n",
       "      <td>31</td>\n",
       "      <td>19</td>\n",
       "      <td>12</td>\n",
       "      <td>3</td>\n",
       "      <td>1</td>\n",
       "      <td>0</td>\n",
       "      <td>0</td>\n",
       "    </tr>\n",
       "    <tr>\n",
       "      <th>2</th>\n",
       "      <td>0</td>\n",
       "      <td>0</td>\n",
       "      <td>0</td>\n",
       "      <td>0</td>\n",
       "      <td>0</td>\n",
       "      <td>0</td>\n",
       "      <td>0</td>\n",
       "      <td>0</td>\n",
       "      <td>0</td>\n",
       "      <td>0</td>\n",
       "      <td>0</td>\n",
       "      <td>0</td>\n",
       "      <td>0</td>\n",
       "      <td>0</td>\n",
       "      <td>0</td>\n",
       "      <td>0</td>\n",
       "      <td>0</td>\n",
       "      <td>0</td>\n",
       "      <td>0</td>\n",
       "      <td>0</td>\n",
       "      <td>0</td>\n",
       "      <td>1</td>\n",
       "      <td>0</td>\n",
       "      <td>0</td>\n",
       "      <td>0</td>\n",
       "      <td>0</td>\n",
       "      <td>0</td>\n",
       "      <td>0</td>\n",
       "      <td>0</td>\n",
       "      <td>0</td>\n",
       "      <td>0</td>\n",
       "      <td>0</td>\n",
       "      <td>0</td>\n",
       "      <td>0</td>\n",
       "      <td>0</td>\n",
       "      <td>0</td>\n",
       "      <td>0</td>\n",
       "      <td>0</td>\n",
       "      <td>0</td>\n",
       "      <td>0</td>\n",
       "      <td>1</td>\n",
       "      <td>46.0</td>\n",
       "      <td>0</td>\n",
       "      <td>1</td>\n",
       "      <td>14</td>\n",
       "      <td>31</td>\n",
       "      <td>19</td>\n",
       "      <td>12</td>\n",
       "      <td>3</td>\n",
       "      <td>1</td>\n",
       "      <td>13</td>\n",
       "      <td>0</td>\n",
       "    </tr>\n",
       "    <tr>\n",
       "      <th>3</th>\n",
       "      <td>0</td>\n",
       "      <td>0</td>\n",
       "      <td>0</td>\n",
       "      <td>0</td>\n",
       "      <td>0</td>\n",
       "      <td>0</td>\n",
       "      <td>0</td>\n",
       "      <td>1</td>\n",
       "      <td>0</td>\n",
       "      <td>0</td>\n",
       "      <td>0</td>\n",
       "      <td>0</td>\n",
       "      <td>0</td>\n",
       "      <td>0</td>\n",
       "      <td>0</td>\n",
       "      <td>0</td>\n",
       "      <td>0</td>\n",
       "      <td>0</td>\n",
       "      <td>0</td>\n",
       "      <td>0</td>\n",
       "      <td>0</td>\n",
       "      <td>1</td>\n",
       "      <td>0</td>\n",
       "      <td>0</td>\n",
       "      <td>0</td>\n",
       "      <td>0</td>\n",
       "      <td>0</td>\n",
       "      <td>0</td>\n",
       "      <td>0</td>\n",
       "      <td>0</td>\n",
       "      <td>0</td>\n",
       "      <td>0</td>\n",
       "      <td>0</td>\n",
       "      <td>0</td>\n",
       "      <td>0</td>\n",
       "      <td>0</td>\n",
       "      <td>0</td>\n",
       "      <td>0</td>\n",
       "      <td>0</td>\n",
       "      <td>0</td>\n",
       "      <td>0</td>\n",
       "      <td>60.0</td>\n",
       "      <td>1</td>\n",
       "      <td>0</td>\n",
       "      <td>14</td>\n",
       "      <td>31</td>\n",
       "      <td>19</td>\n",
       "      <td>12</td>\n",
       "      <td>3</td>\n",
       "      <td>1</td>\n",
       "      <td>0</td>\n",
       "      <td>0</td>\n",
       "    </tr>\n",
       "    <tr>\n",
       "      <th>4</th>\n",
       "      <td>0</td>\n",
       "      <td>0</td>\n",
       "      <td>0</td>\n",
       "      <td>0</td>\n",
       "      <td>0</td>\n",
       "      <td>0</td>\n",
       "      <td>0</td>\n",
       "      <td>1</td>\n",
       "      <td>0</td>\n",
       "      <td>0</td>\n",
       "      <td>0</td>\n",
       "      <td>0</td>\n",
       "      <td>0</td>\n",
       "      <td>0</td>\n",
       "      <td>0</td>\n",
       "      <td>0</td>\n",
       "      <td>0</td>\n",
       "      <td>0</td>\n",
       "      <td>0</td>\n",
       "      <td>0</td>\n",
       "      <td>0</td>\n",
       "      <td>1</td>\n",
       "      <td>0</td>\n",
       "      <td>0</td>\n",
       "      <td>0</td>\n",
       "      <td>0</td>\n",
       "      <td>0</td>\n",
       "      <td>0</td>\n",
       "      <td>0</td>\n",
       "      <td>0</td>\n",
       "      <td>0</td>\n",
       "      <td>0</td>\n",
       "      <td>0</td>\n",
       "      <td>0</td>\n",
       "      <td>0</td>\n",
       "      <td>0</td>\n",
       "      <td>0</td>\n",
       "      <td>0</td>\n",
       "      <td>0</td>\n",
       "      <td>0</td>\n",
       "      <td>1</td>\n",
       "      <td>58.0</td>\n",
       "      <td>0</td>\n",
       "      <td>0</td>\n",
       "      <td>14</td>\n",
       "      <td>31</td>\n",
       "      <td>19</td>\n",
       "      <td>12</td>\n",
       "      <td>3</td>\n",
       "      <td>1</td>\n",
       "      <td>0</td>\n",
       "      <td>0</td>\n",
       "    </tr>\n",
       "  </tbody>\n",
       "</table>\n",
       "</div>"
      ],
      "text/plain": [
       "   L108  L45  L44  L114  L110  L99  L106  L116  L85  L117  L135  L13  L78  \\\n",
       "0     0    0    0     0     0    0     0     0    0     0     0    0    0   \n",
       "1     0    0    0     0     0    0     0     0    0     0     0    0    0   \n",
       "2     0    0    0     0     0    0     0     0    0     0     0    0    0   \n",
       "3     0    0    0     0     0    0     0     1    0     0     0    0    0   \n",
       "4     0    0    0     0     0    0     0     1    0     0     0    0    0   \n",
       "\n",
       "   L51  L121  L10  L12  L128  L19  L9  C18  C8  C13  C24  C12  C29  C11  C28  \\\n",
       "0    0     0    0    0     0    0   0    0   1    0    0    0    0    0    0   \n",
       "1    0     0    0    0     0    0   0    0   1    0    0    0    0    0    0   \n",
       "2    0     0    0    0     0    0   0    0   1    0    0    0    0    0    0   \n",
       "3    0     0    0    0     0    0   0    0   1    0    0    0    0    0    0   \n",
       "4    0     0    0    0     0    0   0    0   1    0    0    0    0    0    0   \n",
       "\n",
       "   C25  C23  C30  C4  C32  C15  C31  C2  C7  C19  C33  C21  gender   age  \\\n",
       "0    0    0    0   0    0    0    0   0   0    0    0    0       1  66.0   \n",
       "1    0    0    0   0    0    0    0   0   0    0    0    0       0  56.0   \n",
       "2    0    0    0   0    0    0    0   0   0    0    0    0       1  46.0   \n",
       "3    0    0    0   0    0    0    0   0   0    0    0    0       0  60.0   \n",
       "4    0    0    0   0    0    0    0   0   0    0    0    0       1  58.0   \n",
       "\n",
       "   vis_wuhan  from_wuhan  symptom1  symptom2  symptom3  symptom4  symptom5  \\\n",
       "0          1           0        14        31        19        12         3   \n",
       "1          0           1        14        31        19        12         3   \n",
       "2          0           1        14        31        19        12         3   \n",
       "3          1           0        14        31        19        12         3   \n",
       "4          0           0        14        31        19        12         3   \n",
       "\n",
       "   symptom6  diff_sym_hos  result  \n",
       "0         1             8       1  \n",
       "1         1             0       0  \n",
       "2         1            13       0  \n",
       "3         1             0       0  \n",
       "4         1             0       0  "
      ]
     },
     "execution_count": 185,
     "metadata": {},
     "output_type": "execute_result"
    }
   ],
   "source": [
    "# Arranging the columns \n",
    "cols = df.columns.tolist()\n",
    "cols = cols[12:52] + cols[0:12]\n",
    "df = df[cols]\n",
    "df.head()"
   ]
  },
  {
   "cell_type": "code",
   "execution_count": 186,
   "id": "f9b6d2de",
   "metadata": {},
   "outputs": [],
   "source": [
    "# divide data \n",
    "X=df.iloc[:,:-1].values\n",
    "Y=df['result']\n",
    "#X\n",
    "#Y"
   ]
  },
  {
   "cell_type": "markdown",
   "id": "71bec29a",
   "metadata": {},
   "source": [
    "## Visualizations"
   ]
  },
  {
   "cell_type": "code",
   "execution_count": 187,
   "id": "572aaa89",
   "metadata": {},
   "outputs": [
    {
     "name": "stdout",
     "output_type": "stream",
     "text": [
      "Data visualization\n"
     ]
    },
    {
     "data": {
      "text/plain": [
       "<matplotlib.legend.Legend at 0x7f8bbdc50400>"
      ]
     },
     "execution_count": 187,
     "metadata": {},
     "output_type": "execute_result"
    },
    {
     "data": {
      "image/png": "[encoded data removed]",
      "text/plain": [
       "<Figure size 432x288 with 1 Axes>"
      ]
     },
     "metadata": {
      "needs_background": "light"
     },
     "output_type": "display_data"
    }
   ],
   "source": [
    "# Visualizing data \n",
    "# using two important features : age and diff_sym_hos \n",
    "print('Data visualization')\n",
    "plt.plot(X[Y==0,41],X[Y==0,50],'g.')\n",
    "plt.plot(X[Y==1,41],X[Y==1,50],'r.')\n",
    "plt.xlabel('age', fontsize=16)\n",
    "plt.ylabel('diff_sym_hos', fontsize=16)\n",
    "plt.ylim(-6,20)\n",
    "plt.xlim(0,100)\n",
    "plt.legend(['recovered','death'],loc='upper right')"
   ]
  },
  {
   "cell_type": "code",
   "execution_count": 188,
   "id": "7adc089a",
   "metadata": {},
   "outputs": [
    {
     "name": "stdout",
     "output_type": "stream",
     "text": [
      "Data visualization\n",
      "Here is a classification idea based on two linear constraints.\n"
     ]
    },
    {
     "data": {
      "image/png": "[encoded data removed]",
      "text/plain": [
       "<Figure size 432x288 with 1 Axes>"
      ]
     },
     "metadata": {
      "needs_background": "light"
     },
     "output_type": "display_data"
    }
   ],
   "source": [
    "# classification idea!\n",
    "from matplotlib import patches\n",
    "print('Data visualization')\n",
    "plt.plot(X[Y==0,41],X[Y==0,50],'g.')\n",
    "plt.plot(X[Y==1,41],X[Y==1,50],'r.')\n",
    "plt.xlabel('age', fontsize=16)\n",
    "plt.ylabel('diff_sym_hos', fontsize=16)\n",
    "plt.ylim(-6,20)\n",
    "plt.xlim(0,100)\n",
    "plt.legend(['recovered','death'],loc='upper right')\n",
    "ax = plt.gca()\n",
    "ax.add_patch(\n",
    "    patches.Rectangle(\n",
    "        (0, -5),   # (x,y)\n",
    "        width=60, height=20,  color='green',\n",
    "        fill=False, hatch = '//'\n",
    "    )\n",
    ")\n",
    "print('Here is a classification idea based on two linear constraints.')"
   ]
  },
  {
   "cell_type": "markdown",
   "id": "6c8dd430",
   "metadata": {},
   "source": [
    "## Normalization"
   ]
  },
  {
   "cell_type": "markdown",
   "id": "b70d2dc4",
   "metadata": {},
   "source": [
    "The goal of normalization is to change the values of numeric columns in the dataset to use a common scale, without distorting differences in the ranges of values or losing information. Normalization is also required for some algorithms to model the data correctly."
   ]
  },
  {
   "cell_type": "code",
   "execution_count": 189,
   "id": "f9268b33",
   "metadata": {},
   "outputs": [],
   "source": [
    "from sklearn.preprocessing import StandardScaler\n",
    "Normalized = StandardScaler()\n",
    "Normalized.fit(X)\n",
    "X = Normalized.transform(X)"
   ]
  },
  {
   "cell_type": "markdown",
   "id": "cccb8aa3",
   "metadata": {},
   "source": [
    "# -------------------------------- KNN CLASSIFIER ----------------------------------"
   ]
  },
  {
   "cell_type": "markdown",
   "id": "2b16ecce",
   "metadata": {},
   "source": [
    "## Feature Selection KNN\n"
   ]
  },
  {
   "cell_type": "markdown",
   "id": "e1f6dc4d",
   "metadata": {},
   "source": [
    "Feature selection enables the machine learning algorithm to train faster. It reduces the complexity of a model and makes it easier to interpret. As well as improving the accuracy of a model if the right features are chosen."
   ]
  },
  {
   "cell_type": "markdown",
   "id": "ce9782d0",
   "metadata": {},
   "source": [
    "- We used Univariate feature selection with k=13.\n",
    "- We reached 13 by trial and error (trying different values for k) and 13 provided the most accurate knn model. \n",
    "- We used f_classif beacause it is not affected by -ve values unlike chi2."
   ]
  },
  {
   "cell_type": "code",
   "execution_count": 17,
   "id": "ca8b48bb",
   "metadata": {},
   "outputs": [
    {
     "name": "stdout",
     "output_type": "stream",
     "text": [
      "Before feature selection --> dimensions\n",
      "(863, 51)\n",
      "After feature selection --> dimensions\n",
      "(863, 13)\n"
     ]
    }
   ],
   "source": [
    "np.set_printoptions(threshold=np.inf)\n",
    "from sklearn.feature_selection import SelectKBest\n",
    "from sklearn.feature_selection import f_classif \n",
    "print(\"Before feature selection --> dimensions\")\n",
    "#print(X[0:1,:])\n",
    "print(X.shape)\n",
    "X_knn = SelectKBest(f_classif , k=13).fit_transform(X,Y) \n",
    "#features selected are \n",
    "#1 (L45)\n",
    "#9 (L117)\n",
    "#20 (C18)\n",
    "#22 (C13)\n",
    "#24 (C12)\n",
    "#35 (C2)\n",
    "#41 (age)\n",
    "#42 (vis_wuhan)\n",
    "#43 (from_wuhan)\n",
    "#44 (symptom1)\n",
    "#45 (symptom2)\n",
    "#47 (symptom4)\n",
    "#50 (diff_sym_hos)\n",
    "print(\"After feature selection --> dimensions\")\n",
    "print(X_knn.shape)\n",
    "#X_knn=X[:,[1,9,20,22,24,35,41,42,43,44,45,47,50]] \n"
   ]
  },
  {
   "cell_type": "markdown",
   "id": "1eb8b79d",
   "metadata": {},
   "source": [
    "## Splitting the data\n",
    "\n"
   ]
  },
  {
   "cell_type": "code",
   "execution_count": 18,
   "id": "f1a2a303",
   "metadata": {},
   "outputs": [],
   "source": [
    "# 80% training\n",
    "# 20% test\n",
    "from sklearn.model_selection import train_test_split\n",
    "x_train_knn, x_test_knn, y_train_knn, y_test_knn = train_test_split(X_knn, Y, test_size=0.20,random_state=3)"
   ]
  },
  {
   "cell_type": "markdown",
   "id": "1455a6ee",
   "metadata": {},
   "source": [
    "#### Since this is a small dataset we are going to use K-fold Cross Validation"
   ]
  },
  {
   "cell_type": "markdown",
   "id": "7494a1d1",
   "metadata": {},
   "source": [
    "Also we do not know which k is best for our classification model so using a for loop we are going to try several k and calculate accuracy then decide which k is best  "
   ]
  },
  {
   "cell_type": "code",
   "execution_count": 19,
   "id": "9f075f0e",
   "metadata": {},
   "outputs": [
    {
     "name": "stdout",
     "output_type": "stream",
     "text": [
      "The optimal number of neighbors is 3.\n"
     ]
    },
    {
     "data": {
      "image/png": "[encoded data removed]",
      "text/plain": [
       "<Figure size 432x288 with 1 Axes>"
      ]
     },
     "metadata": {
      "needs_background": "light"
     },
     "output_type": "display_data"
    }
   ],
   "source": [
    "from sklearn.neighbors import KNeighborsClassifier\n",
    "from sklearn.model_selection import cross_val_score\n",
    "\n",
    "# creating odd list of K for KNN\n",
    "k_List = list(range(0,30))\n",
    "neighbors = list(filter(lambda x: x % 2 != 0, k_List))\n",
    "\n",
    "# list that will hold accuracy \n",
    "acc_score = []\n",
    "\n",
    "# perform 10-fold cross validation\n",
    "for k in neighbors:\n",
    "    knn = KNeighborsClassifier(n_neighbors=k)\n",
    "    acc_scores = cross_val_score(knn, x_train_knn, y_train_knn, cv=10, scoring='accuracy')\n",
    "    acc_score.append(acc_scores.mean())\n",
    "\n",
    "# determining best k\n",
    "best_k = neighbors[acc_score.index(max(acc_score))]\n",
    "print('The optimal number of neighbors is %d.' % best_k)\n",
    "\n",
    "# plot accuracy vs k \n",
    "plt.plot(neighbors, acc_score)\n",
    "plt.xlabel('no. of Neighbors')\n",
    "plt.ylabel('accuracy')\n",
    "plt.grid()\n",
    "plt.show()"
   ]
  },
  {
   "cell_type": "markdown",
   "id": "c21d4fb2",
   "metadata": {},
   "source": [
    "#### Train model on best k"
   ]
  },
  {
   "cell_type": "code",
   "execution_count": 20,
   "id": "71f1b14a",
   "metadata": {},
   "outputs": [],
   "source": [
    "knn_classifier = KNeighborsClassifier(n_neighbors=best_k)\n",
    "knn_classifier.fit(x_train_knn, y_train_knn)\n",
    "y_pred_knn = knn_classifier.predict(x_test_knn)"
   ]
  },
  {
   "cell_type": "markdown",
   "id": "08e25d28",
   "metadata": {},
   "source": [
    "## Visualizations"
   ]
  },
  {
   "cell_type": "code",
   "execution_count": 21,
   "id": "6fde75b1",
   "metadata": {},
   "outputs": [
    {
     "name": "stdout",
     "output_type": "stream",
     "text": [
      "Data visualization of original test data\n"
     ]
    },
    {
     "data": {
      "text/plain": [
       "<matplotlib.legend.Legend at 0x7ffb1fdc13d0>"
      ]
     },
     "execution_count": 21,
     "metadata": {},
     "output_type": "execute_result"
    },
    {
     "data": {
      "image/png": "[encoded data removed]",
      "text/plain": [
       "<Figure size 432x288 with 1 Axes>"
      ]
     },
     "metadata": {
      "needs_background": "light"
     },
     "output_type": "display_data"
    }
   ],
   "source": [
    "#plot original data\n",
    "print('Data visualization of original test data')\n",
    "plt.plot(x_test_knn[y_test_knn==0,6],x_test_knn[y_test_knn==0,12],'g.')\n",
    "plt.plot(x_test_knn[y_test_knn==1,6],x_test_knn[y_test_knn==1,12],'r.')\n",
    "plt.xlabel('age', fontsize=16)\n",
    "plt.ylabel('diff_sym_hos', fontsize=16)\n",
    "plt.ylim(-1,4)\n",
    "plt.xlim(-1,1)\n",
    "plt.legend(['recovered test','death test'],loc='upper right')"
   ]
  },
  {
   "cell_type": "code",
   "execution_count": 22,
   "id": "dcbf7c7d",
   "metadata": {},
   "outputs": [
    {
     "name": "stdout",
     "output_type": "stream",
     "text": [
      "Data visualization of predicted data\n"
     ]
    },
    {
     "data": {
      "text/plain": [
       "<matplotlib.legend.Legend at 0x7ffb1fe20640>"
      ]
     },
     "execution_count": 22,
     "metadata": {},
     "output_type": "execute_result"
    },
    {
     "data": {
      "image/png": "[encoded data removed]",
      "text/plain": [
       "<Figure size 432x288 with 1 Axes>"
      ]
     },
     "metadata": {
      "needs_background": "light"
     },
     "output_type": "display_data"
    }
   ],
   "source": [
    "#plot predicted data\n",
    "print('Data visualization of predicted data')\n",
    "plt.plot(x_test_knn[y_pred_knn==0,6],x_test_knn[y_pred_knn==0,12],'g.')\n",
    "plt.plot(x_test_knn[y_pred_knn==1,6],x_test_knn[y_pred_knn==1,12],'r.')\n",
    "plt.xlabel('age', fontsize=16)\n",
    "plt.ylabel('diff_sym_hos', fontsize=16)\n",
    "plt.ylim(-1,4)\n",
    "plt.xlim(-1,1)\n",
    "plt.legend(['recovered pred','death pred'],loc='upper right')"
   ]
  },
  {
   "cell_type": "code",
   "execution_count": 23,
   "id": "99fa7224",
   "metadata": {},
   "outputs": [
    {
     "name": "stdout",
     "output_type": "stream",
     "text": [
      "KNN boundary for k = 3\n"
     ]
    },
    {
     "data": {
      "image/png": "[encoded data removed]",
      "text/plain": [
       "<Figure size 576x432 with 1 Axes>"
      ]
     },
     "metadata": {
      "needs_background": "light"
     },
     "output_type": "display_data"
    }
   ],
   "source": [
    "# KNN Boundary Visualization \n",
    "from matplotlib.colors import ListedColormap\n",
    "from sklearn import neighbors\n",
    "print ('KNN boundary for k = %d' % best_k)\n",
    "cmap_light = ListedColormap(['#befabe','#ffbaba' ])\n",
    "clf = neighbors.KNeighborsClassifier(best_k)\n",
    "clf.fit(x_train_knn[:,[6,12]], y_train_knn)\n",
    "age_min, age_max = X_knn[:, 6].min() - 1, X_knn[:, 6].max() + 1\n",
    "diff_sym_hos_min, diff_sym_hos_max = X_knn[:, 12].min() - 1, X_knn[:, 12].max() + 1\n",
    "age, sym = np.meshgrid(np.arange(age_min, age_max, 0.02),np.arange(diff_sym_hos_min, diff_sym_hos_max, 0.02))\n",
    "Z = clf.predict(np.c_[age.ravel(), sym.ravel()])\n",
    "Z = Z.reshape(age.shape)\n",
    "plt.figure(figsize=(8, 6))\n",
    "plt.pcolormesh(age, sym, Z, cmap=cmap_light,shading='auto')\n",
    "plt.plot(X_knn[Y==0,6],X_knn[Y==0,12],'g.')\n",
    "plt.plot(X_knn[Y==1,6],X_knn[Y==1,12],'r.')\n",
    "plt.xlabel('age', fontsize=16)\n",
    "plt.ylabel('diff_sym_hos', fontsize=16)\n",
    "plt.ylim(-3,7)\n",
    "plt.xlim(-4,4)\n",
    "plt.legend(['recovered','death'],loc='upper right')\n",
    "plt.show()"
   ]
  },
  {
   "cell_type": "markdown",
   "id": "e50aff6e",
   "metadata": {},
   "source": [
    "## Model Evaluation "
   ]
  },
  {
   "cell_type": "markdown",
   "id": "282814c0",
   "metadata": {},
   "source": [
    "For a binary classification problem, we would have a 2 x 2 matrix \n",
    "\n",
    "                                        TN | FP\n",
    "                                        -------\n",
    "                                        FN | TP\n",
    "                                       "
   ]
  },
  {
   "cell_type": "code",
   "execution_count": 24,
   "id": "b4cdfa36",
   "metadata": {
    "scrolled": true
   },
   "outputs": [
    {
     "name": "stdout",
     "output_type": "stream",
     "text": [
      "[[154   1]\n",
      " [  3  15]]\n"
     ]
    }
   ],
   "source": [
    "from sklearn.metrics import confusion_matrix\n",
    "print(confusion_matrix(y_test_knn, y_pred_knn))"
   ]
  },
  {
   "cell_type": "markdown",
   "id": "96a22d75",
   "metadata": {},
   "source": [
    "- Precision refers to the number of true positives divided by the total number of positive predictions (i.e., the number of true positives plus the number of false positives).\n",
    "\n",
    "$$\n",
    "    Precision = \\frac{TP}{TP + FP}.\n",
    "$$\n",
    "\n",
    "- Recall is the measure of our model correctly identifying True Positives.It is the number of true positives divided by (the number of true positives plus the number of false negatives).\n",
    "\n",
    "$$\n",
    "    Recall = \\frac{TP}{TP + FN}.\n",
    "$$\n",
    "\n",
    "- F1 score: Precision and Recall are the two building blocks of the F1 score. The goal of the F1 score is to combine the precision and recall metrics into a single metric.The F1 score is defined as the harmonic mean of precision and recall.\n",
    "\n",
    "$$\n",
    "    F1 = \\frac{2 * precision * recall}{precision + recall}.\n",
    "$$\n",
    "\n",
    "\n"
   ]
  },
  {
   "cell_type": "code",
   "execution_count": 25,
   "id": "8525d616",
   "metadata": {},
   "outputs": [
    {
     "name": "stdout",
     "output_type": "stream",
     "text": [
      "Accuracy: 0.977\n",
      "Precision: 0.938\n",
      "Recall: 0.833\n",
      "F-Measure: 0.882\n"
     ]
    }
   ],
   "source": [
    "from sklearn.metrics import accuracy_score\n",
    "from sklearn.metrics import recall_score\n",
    "from sklearn.metrics import f1_score\n",
    "from sklearn.metrics import precision_score\n",
    "# calculate accuracy\n",
    "knn_accuracy = accuracy_score(y_test_knn, y_pred_knn)\n",
    "print('Accuracy: %.3f' % knn_accuracy)\n",
    "# calculate precision\n",
    "knn_precision = precision_score(y_test_knn, y_pred_knn, average='binary')\n",
    "print('Precision: %.3f' % knn_precision)\n",
    "# calculate recall\n",
    "knn_recall = recall_score(y_test_knn, y_pred_knn, average='binary')\n",
    "print('Recall: %.3f' % knn_recall)\n",
    "# calculate f1-score\n",
    "knn_f1_score = f1_score(y_test_knn, y_pred_knn, average='binary')\n",
    "print('F-Measure: %.3f' % knn_f1_score)"
   ]
  },
  {
   "cell_type": "markdown",
   "id": "ab16ee38",
   "metadata": {},
   "source": [
    "The ROC curve shows the trade-off between sensitivity (or TPR) and FPR (1 – specificity). Classifiers that give curves closer to the top-left corner indicate a better performance. As a baseline, a random classifier is expected to give points lying along the diagonal (FPR = TPR). The closer the curve comes to the 45-degree diagonal of the ROC space, the less accurate the test.\n",
    "To compare different classifiers, it can be useful to summarize the performance of each classifier into a single measure. One common approach is to calculate the area under the ROC curve, which is abbreviated to AUC."
   ]
  },
  {
   "cell_type": "code",
   "execution_count": 26,
   "id": "f2dc8906",
   "metadata": {},
   "outputs": [
    {
     "data": {
      "image/png": "[encoded data removed]",
      "text/plain": [
       "<Figure size 500x400 with 1 Axes>"
      ]
     },
     "metadata": {
      "needs_background": "light"
     },
     "output_type": "display_data"
    }
   ],
   "source": [
    "# plotting ROC using tpr, fpr \n",
    "# calculating AUC \n",
    "from sklearn import metrics\n",
    "# predict probabilities\n",
    "y_score_knn = knn_classifier.predict_proba(x_test_knn)\n",
    "# keep probabilities for the positive outcome only\n",
    "y_score_knn = y_score_knn[:, 1]\n",
    "#calculate\n",
    "fpr, tpr, threshold =  metrics.roc_curve(y_test_knn, y_score_knn)\n",
    "auc = metrics.roc_auc_score(y_test_knn, y_score_knn)\n",
    "#plot\n",
    "plt.figure(figsize=(5, 4), dpi=100)\n",
    "plt.title(\"AUC & ROC Curve\")\n",
    "plt.plot(fpr, tpr, 'b', label = 'AUC = %0.3f' % auc)\n",
    "plt.fill_between(fpr, tpr, facecolor='lightblue', alpha=0.7)\n",
    "plt.legend(loc = 'lower right')\n",
    "plt.plot([0, 1], [0, 1],'r--')\n",
    "plt.xlim([0, 1])\n",
    "plt.ylim([0, 1])\n",
    "plt.ylabel('True Positive Rate')\n",
    "plt.xlabel('False Positive Rate')\n",
    "plt.show()"
   ]
  },
  {
   "cell_type": "markdown",
   "id": "87d83e2c",
   "metadata": {},
   "source": [
    "# ------------------------------LOGISTIC CLASSIFIER --------------------------------"
   ]
  },
  {
   "cell_type": "markdown",
   "id": "e7c90d01",
   "metadata": {},
   "source": [
    "## Feature Selection Logistic"
   ]
  },
  {
   "cell_type": "code",
   "execution_count": 27,
   "id": "f4a0d19c",
   "metadata": {},
   "outputs": [
    {
     "name": "stdout",
     "output_type": "stream",
     "text": [
      "Before feature selection --> dimensions\n",
      "(863, 51)\n",
      "After feature selection --> dimensions\n",
      "(863, 20)\n"
     ]
    }
   ],
   "source": [
    "from sklearn.feature_selection import SelectKBest\n",
    "from sklearn.feature_selection import f_classif \n",
    "print(\"Before feature selection --> dimensions\")\n",
    "print(X.shape)\n",
    "X_log = SelectKBest(f_classif , k=20).fit_transform(X,Y) \n",
    "#features selected are \n",
    "#1 (L45)\n",
    "#2 (L44)\n",
    "#8 (L85)\n",
    "#9 (L117)\n",
    "#20 (C18)\n",
    "#21 (C8)\n",
    "#22 (C13)\n",
    "#23 (C24)\n",
    "#24 (C12)\n",
    "#26 (C11)\n",
    "#35 (C2)\n",
    "#41 (age)\n",
    "#42 (vis_wuhan)\n",
    "#43 (from_wuhan)\n",
    "#44 (symptom1)\n",
    "#45 (symptom2)\n",
    "#46 (symptom3)\n",
    "#47 (symptom4)\n",
    "#50 (diff_sym_hos)\n",
    "print(\"After feature selection --> dimensions\")\n",
    "print(X_log.shape)\n"
   ]
  },
  {
   "cell_type": "markdown",
   "id": "6bdbaad2",
   "metadata": {},
   "source": [
    "## Splitting the data "
   ]
  },
  {
   "cell_type": "code",
   "execution_count": 28,
   "id": "2c085fbf",
   "metadata": {},
   "outputs": [],
   "source": [
    "# 80% training\n",
    "# 20% test\n",
    "from sklearn.model_selection import train_test_split\n",
    "x_train_log, x_test_log, y_train_log, y_test_log = train_test_split(X_log, Y, test_size=0.20,random_state=3)"
   ]
  },
  {
   "cell_type": "markdown",
   "id": "92c83e0e",
   "metadata": {},
   "source": [
    "## CV check"
   ]
  },
  {
   "cell_type": "code",
   "execution_count": 29,
   "id": "5fd5375f",
   "metadata": {},
   "outputs": [
    {
     "name": "stdout",
     "output_type": "stream",
     "text": [
      "Cross-validation scores:[0.95652174 0.98550725 0.97101449 0.91304348 0.98550725 0.97101449\n",
      " 0.97101449 0.97101449 0.95652174 0.95652174]\n",
      "10-fold cross validation average accuracy: 0.964\n"
     ]
    }
   ],
   "source": [
    "from sklearn.linear_model import LogisticRegression\n",
    "# checking accuracy of model without choosing parameters \n",
    "from sklearn import model_selection\n",
    "from sklearn.model_selection import cross_val_score\n",
    "model = LogisticRegression()\n",
    "scores = model_selection.cross_val_score(model, x_train_log, y_train_log, cv=10, scoring='accuracy')\n",
    "print('Cross-validation scores:{}'.format(scores))\n",
    "print(\"10-fold cross validation average accuracy: %.3f\" % (scores.mean()))"
   ]
  },
  {
   "cell_type": "markdown",
   "id": "1f404b72",
   "metadata": {},
   "source": [
    "##### We are going to perform a GridSearchCV to find optimum hyperparameters!"
   ]
  },
  {
   "cell_type": "markdown",
   "id": "73b5487c",
   "metadata": {},
   "source": [
    "#### Grid Search with 10 folds"
   ]
  },
  {
   "cell_type": "code",
   "execution_count": 30,
   "id": "0cd51a7a",
   "metadata": {},
   "outputs": [
    {
     "name": "stdout",
     "output_type": "stream",
     "text": [
      "tuned hpyerparameters :(best parameters)  {'C': 1, 'penalty': 'l1', 'solver': 'liblinear'}\n",
      "accuracy : 0.9710144927536233\n"
     ]
    }
   ],
   "source": [
    "# Grid search for getting optimum parameters\n",
    "from sklearn.model_selection import GridSearchCV\n",
    "# list that holds parameter values\n",
    "# solver is assigned to liblinear because it functions with both penalties l1 and l2\n",
    "grid_values = {'penalty': ['l1','l2'], 'C': [0.001,0.01,0.1,1,10,100,1000], 'solver':['liblinear']}\n",
    "# model CV\n",
    "clf=LogisticRegression()\n",
    "clf_cv=GridSearchCV(clf,grid_values,cv=10)\n",
    "clf_cv.fit(x_train_log,y_train_log)\n",
    "#printing best parameters and the accuracy of that model \n",
    "print(\"tuned hpyerparameters :(best parameters) \",clf_cv.best_params_)\n",
    "print(\"accuracy :\",clf_cv.best_score_)"
   ]
  },
  {
   "cell_type": "markdown",
   "id": "9b7a4266",
   "metadata": {},
   "source": [
    "##### We can see that choosing the right parameters resulted in better accuracy"
   ]
  },
  {
   "cell_type": "markdown",
   "id": "4e748941",
   "metadata": {},
   "source": [
    "## Implementing the model"
   ]
  },
  {
   "cell_type": "code",
   "execution_count": 31,
   "id": "f7ae5f0c",
   "metadata": {},
   "outputs": [
    {
     "name": "stdout",
     "output_type": "stream",
     "text": [
      "Accuracy on test data = 0.960\n"
     ]
    }
   ],
   "source": [
    "# instantiate the model \n",
    "log_classifier = LogisticRegression(penalty='l1', C=1.0, solver='liblinear')\n",
    "\n",
    "# fit the model with data\n",
    "log_classifier.fit(x_train_log,y_train_log)\n",
    "\n",
    "y_pred_log=log_classifier.predict(x_test_log)\n",
    "\n",
    "# Measure accuracy on test data \n",
    "acc = np.mean(y_pred_log == y_test_log)\n",
    "print(\"Accuracy on test data = %.3f\" % acc)"
   ]
  },
  {
   "cell_type": "markdown",
   "id": "d82813c5",
   "metadata": {},
   "source": [
    "## Visualizations"
   ]
  },
  {
   "cell_type": "code",
   "execution_count": 32,
   "id": "5c24ab01",
   "metadata": {},
   "outputs": [
    {
     "name": "stdout",
     "output_type": "stream",
     "text": [
      "Data visualization of original test data\n"
     ]
    },
    {
     "data": {
      "text/plain": [
       "<matplotlib.legend.Legend at 0x7ffb1feda0a0>"
      ]
     },
     "execution_count": 32,
     "metadata": {},
     "output_type": "execute_result"
    },
    {
     "data": {
      "image/png": "[encoded data removed]",
      "text/plain": [
       "<Figure size 432x288 with 1 Axes>"
      ]
     },
     "metadata": {
      "needs_background": "light"
     },
     "output_type": "display_data"
    }
   ],
   "source": [
    "#plot original data\n",
    "print('Data visualization of original test data')\n",
    "plt.plot(x_test_log[y_test_log==0,12],x_test_log[y_test_log==0,19],'g.')\n",
    "plt.plot(x_test_log[y_test_log==1,12],x_test_log[y_test_log==1,19],'r.')\n",
    "plt.xlabel('age', fontsize=16)\n",
    "plt.ylabel('diff_sym_hos', fontsize=16)\n",
    "plt.ylim(-1,4)\n",
    "plt.xlim(-1,1)\n",
    "plt.legend(['recovered test','death test'],loc='upper right')"
   ]
  },
  {
   "cell_type": "code",
   "execution_count": 33,
   "id": "baa8db94",
   "metadata": {},
   "outputs": [
    {
     "name": "stdout",
     "output_type": "stream",
     "text": [
      "Data visualization of predicted data\n"
     ]
    },
    {
     "data": {
      "text/plain": [
       "<matplotlib.legend.Legend at 0x7ffb20d4e130>"
      ]
     },
     "execution_count": 33,
     "metadata": {},
     "output_type": "execute_result"
    },
    {
     "data": {
      "image/png": "[encoded data removed]",
      "text/plain": [
       "<Figure size 432x288 with 1 Axes>"
      ]
     },
     "metadata": {
      "needs_background": "light"
     },
     "output_type": "display_data"
    }
   ],
   "source": [
    "#plot predicted data\n",
    "print('Data visualization of predicted data')\n",
    "plt.plot(x_test_log[y_pred_log==0,12],x_test_log[y_pred_log==0,19],'g.')\n",
    "plt.plot(x_test_log[y_pred_log==1,12],x_test_log[y_pred_log==1,19],'r.')\n",
    "plt.xlabel('age', fontsize=16)\n",
    "plt.ylabel('diff_sym_hos', fontsize=16)\n",
    "plt.ylim(-1,4)\n",
    "plt.xlim(-1,1)\n",
    "plt.legend(['recovered pred','death pred'],loc='upper right')"
   ]
  },
  {
   "cell_type": "code",
   "execution_count": 34,
   "id": "57a244a6",
   "metadata": {},
   "outputs": [
    {
     "name": "stdout",
     "output_type": "stream",
     "text": [
      "Logistic boundary for data\n"
     ]
    },
    {
     "data": {
      "image/png": "[encoded data removed]",
      "text/plain": [
       "<Figure size 576x432 with 1 Axes>"
      ]
     },
     "metadata": {
      "needs_background": "light"
     },
     "output_type": "display_data"
    }
   ],
   "source": [
    "# logistic decision boundary visualization\n",
    "from matplotlib.colors import ListedColormap\n",
    "print ('Logistic boundary for data')\n",
    "cmap_light = ListedColormap(['#befabe','#ffbaba' ])\n",
    "clf = LogisticRegression(penalty='l1', C=1.0, solver='liblinear')\n",
    "clf.fit(x_train_log[:,[12,19]], y_train_log)\n",
    "age_min, age_max = X_log[:, 12].min() - 1, X_log[:, 12].max() + 1\n",
    "diff_sym_hos_min, diff_sym_hos_max = X_log[:, 19].min() - 1, X_log[:, 19].max() + 1\n",
    "age, sym = np.meshgrid(np.arange(age_min, age_max, 0.02),np.arange(diff_sym_hos_min, diff_sym_hos_max, 0.02))\n",
    "Z = clf.predict(np.c_[age.ravel(), sym.ravel()])\n",
    "Z = Z.reshape(age.shape)\n",
    "plt.figure(figsize=(8, 6))\n",
    "plt.pcolormesh(age, sym, Z, cmap=cmap_light,shading='auto')\n",
    "plt.plot(X_log[Y==0,12],X_log[Y==0,19],'g.')\n",
    "plt.plot(X_log[Y==1,12],X_log[Y==1,19],'r.')\n",
    "plt.xlabel('age', fontsize=16)\n",
    "plt.ylabel('diff_sym_hos', fontsize=16)\n",
    "plt.ylim(-3,7)\n",
    "plt.xlim(-4,4)\n",
    "plt.legend(['recovered','death'],loc='upper right')\n",
    "plt.show()"
   ]
  },
  {
   "cell_type": "markdown",
   "id": "b2048111",
   "metadata": {},
   "source": [
    "## Model Evaluation "
   ]
  },
  {
   "cell_type": "markdown",
   "id": "fabb2015",
   "metadata": {},
   "source": [
    "For a binary classification problem, we would have a 2 x 2 matrix \n",
    "\n",
    "                                        TN | FP\n",
    "                                        -------\n",
    "                                        FN | TP\n",
    "                                       "
   ]
  },
  {
   "cell_type": "code",
   "execution_count": 35,
   "id": "ae7c4b54",
   "metadata": {
    "scrolled": true
   },
   "outputs": [
    {
     "name": "stdout",
     "output_type": "stream",
     "text": [
      "[[151   4]\n",
      " [  3  15]]\n"
     ]
    }
   ],
   "source": [
    "from sklearn.metrics import confusion_matrix\n",
    "print(confusion_matrix(y_test_log, y_pred_log))"
   ]
  },
  {
   "cell_type": "markdown",
   "id": "51c45f50",
   "metadata": {},
   "source": [
    "- Precision refers to the number of true positives divided by the total number of positive predictions (i.e., the number of true positives plus the number of false positives).\n",
    "\n",
    "$$\n",
    "    Precision = \\frac{TP}{TP + FP}.\n",
    "$$\n",
    "\n",
    "- Recall is the measure of our model correctly identifying True Positives.It is the number of true positives divided by (the number of true positives plus the number of false negatives).\n",
    "\n",
    "$$\n",
    "    Recall = \\frac{TP}{TP + FN}.\n",
    "$$\n",
    "\n",
    "- F1 score: Precision and Recall are the two building blocks of the F1 score. The goal of the F1 score is to combine the precision and recall metrics into a single metric.The F1 score is defined as the harmonic mean of precision and recall.\n",
    "\n",
    "$$\n",
    "    F1 = \\frac{2 * precision * recall}{precision + recall}.\n",
    "$$\n",
    "\n",
    "\n"
   ]
  },
  {
   "cell_type": "code",
   "execution_count": 36,
   "id": "843f17e6",
   "metadata": {},
   "outputs": [
    {
     "name": "stdout",
     "output_type": "stream",
     "text": [
      "Accuracy: 0.960\n",
      "Precision: 0.789\n",
      "Recall: 0.833\n",
      "F-Measure: 0.811\n"
     ]
    }
   ],
   "source": [
    "from sklearn.metrics import accuracy_score\n",
    "from sklearn.metrics import recall_score\n",
    "from sklearn.metrics import f1_score\n",
    "from sklearn.metrics import precision_score\n",
    "# calculate accuracy\n",
    "log_accuracy = accuracy_score(y_test_log, y_pred_log)\n",
    "print('Accuracy: %.3f' % log_accuracy)\n",
    "# calculate precision\n",
    "log_precision = precision_score(y_test_log, y_pred_log, average='binary')\n",
    "print('Precision: %.3f' % log_precision)\n",
    "# calculate recall\n",
    "log_recall = recall_score(y_test_log, y_pred_log, average='binary')\n",
    "print('Recall: %.3f' % log_recall)\n",
    "# calculate f1-score\n",
    "log_f1_score = f1_score(y_test_log, y_pred_log, average='binary')\n",
    "print('F-Measure: %.3f' % log_f1_score)"
   ]
  },
  {
   "cell_type": "markdown",
   "id": "1fd28d5a",
   "metadata": {},
   "source": [
    "The ROC curve shows the trade-off between sensitivity (or TPR) and FPR (1 – specificity). Classifiers that give curves closer to the top-left corner indicate a better performance. As a baseline, a random classifier is expected to give points lying along the diagonal (FPR = TPR). The closer the curve comes to the 45-degree diagonal of the ROC space, the less accurate the test.\n",
    "To compare different classifiers, it can be useful to summarize the performance of each classifier into a single measure. One common approach is to calculate the area under the ROC curve, which is abbreviated to AUC."
   ]
  },
  {
   "cell_type": "code",
   "execution_count": 37,
   "id": "d351fc7b",
   "metadata": {},
   "outputs": [
    {
     "data": {
      "image/png": "[encoded data removed]",
      "text/plain": [
       "<Figure size 500x400 with 1 Axes>"
      ]
     },
     "metadata": {
      "needs_background": "light"
     },
     "output_type": "display_data"
    }
   ],
   "source": [
    "# plotting ROC using tpr, fpr \n",
    "# calculating AUC \n",
    "from sklearn import metrics\n",
    "# predict probabilities\n",
    "y_score_log = log_classifier.predict_proba(x_test_log)\n",
    "# keep probabilities for the positive outcome only\n",
    "y_score_log = y_score_log[:, 1]\n",
    "#calculate\n",
    "fpr, tpr, threshold =  metrics.roc_curve(y_test_log, y_score_log)\n",
    "auc = metrics.roc_auc_score(y_test_log, y_score_log)\n",
    "#plot\n",
    "plt.figure(figsize=(5, 4), dpi=100)\n",
    "plt.title(\"AUC & ROC Curve\")\n",
    "plt.plot(fpr, tpr, 'b', label = 'AUC = %0.3f' % auc)\n",
    "plt.fill_between(fpr, tpr, facecolor='lightblue', alpha=0.7)\n",
    "plt.legend(loc = 'lower right')\n",
    "plt.plot([0, 1], [0, 1],'r--')\n",
    "plt.xlim([0, 1])\n",
    "plt.ylim([0, 1])\n",
    "plt.ylabel('True Positive Rate')\n",
    "plt.xlabel('False Positive Rate')\n",
    "plt.show()"
   ]
  },
  {
   "cell_type": "code",
   "execution_count": 38,
   "id": "e45d0df7",
   "metadata": {},
   "outputs": [
    {
     "data": {
      "text/plain": [
       "(0.0, 1.0)"
      ]
     },
     "execution_count": 38,
     "metadata": {},
     "output_type": "execute_result"
    },
    {
     "data": {
      "image/png": "[encoded data removed]",
      "text/plain": [
       "<Figure size 432x288 with 1 Axes>"
      ]
     },
     "metadata": {
      "needs_background": "light"
     },
     "output_type": "display_data"
    }
   ],
   "source": [
    "# graphing the relation between the threshold and the TPR and FPR\n",
    "plt.plot(threshold,tpr, threshold,fpr)\n",
    "plt.legend(['TPR','FPR'])\n",
    "plt.xlabel('Threshold')\n",
    "plt.xlim([0,1])\n",
    "\n"
   ]
  },
  {
   "cell_type": "markdown",
   "id": "335b89cb",
   "metadata": {},
   "source": [
    "# --------------------------------BAYES CLASSIFIER ----------------------------------"
   ]
  },
  {
   "cell_type": "markdown",
   "id": "fdd8125e",
   "metadata": {},
   "source": [
    "## Feature Selection Bayes\n"
   ]
  },
  {
   "cell_type": "code",
   "execution_count": 173,
   "id": "2910c652",
   "metadata": {},
   "outputs": [
    {
     "name": "stdout",
     "output_type": "stream",
     "text": [
      "Before feature selection --> dimensions\n",
      "(863, 51)\n",
      "[[-0.33053668 -0.31521906 -0.22899569 -0.21164638 -0.19939668 -0.1930275\n",
      "  -0.1930275  -0.16173847 -0.15792599 -0.15792599 -0.15003949 -0.14595128\n",
      "  -0.14595128 -0.14175529 -0.14175529 -0.14175529 -0.13299879 -0.11874787\n",
      "  -0.11362569 -0.11362569 -0.49891344  2.13722763 -0.34121767 -0.33268921\n",
      "  -0.25835842 -0.21164638 -0.20559798 -0.19939668 -0.1962341  -0.1930275\n",
      "  -0.14175529 -0.14175529 -0.13299879 -0.12841335 -0.12841335 -0.11362569\n",
      "  -0.10827432 -0.10265789 -0.09673017 -0.06823912  0.20759199  1.10149229\n",
      "   2.12056957 -0.34753305  0.46575536  0.40135529  0.24491398  0.13516128\n",
      "   0.05466758  0.03406014  2.9713387 ]]\n",
      "[[-0.31521906 -0.15792599 -0.49891344 -0.34121767 -0.11362569  1.10149229\n",
      "   2.12056957 -0.34753305  0.46575536  0.40135529  0.13516128  2.9713387 ]]\n",
      "After feature selection --> dimensions\n",
      "(863, 12)\n"
     ]
    }
   ],
   "source": [
    "from sklearn.feature_selection import SelectKBest\n",
    "from sklearn.feature_selection import f_classif \n",
    "print(\"Before feature selection --> dimensions\")\n",
    "print(X.shape)\n",
    "X_bay = SelectKBest(f_classif , k=12).fit_transform(X,Y) \n",
    "#features selected are \n",
    "#1 (L45)\n",
    "#9 (L117)\n",
    "#20 (C18)\n",
    "#22 (C13)\n",
    "#35 (C2)\n",
    "#41 (age)\n",
    "#42 (vis_wuhan)\n",
    "#43 (from_wuhan)\n",
    "#44 (symptom1)\n",
    "#45 (symptom2)\n",
    "#47 (symptom4)\n",
    "#50 (diff_sym_hos)\n",
    "print(\"After feature selection --> dimensions\")\n",
    "print(X_bay.shape)\n"
   ]
  },
  {
   "cell_type": "markdown",
   "id": "1bf47571",
   "metadata": {},
   "source": [
    "## Splitting the data"
   ]
  },
  {
   "cell_type": "code",
   "execution_count": 40,
   "id": "50805778",
   "metadata": {},
   "outputs": [],
   "source": [
    "# 80% training\n",
    "# 20% test\n",
    "from sklearn.model_selection import train_test_split\n",
    "x_train_bay, x_test_bay, y_train_bay, y_test_bay = train_test_split(X_bay, Y, test_size=0.20,random_state=3)"
   ]
  },
  {
   "cell_type": "markdown",
   "id": "306db16a",
   "metadata": {},
   "source": [
    "Data provided is continuous so we used gaussian NB"
   ]
  },
  {
   "cell_type": "markdown",
   "id": "820dec56",
   "metadata": {},
   "source": [
    "#### Model training"
   ]
  },
  {
   "cell_type": "code",
   "execution_count": 41,
   "id": "7c2328e0",
   "metadata": {},
   "outputs": [
    {
     "data": {
      "text/plain": [
       "GaussianNB()"
      ]
     },
     "execution_count": 41,
     "metadata": {},
     "output_type": "execute_result"
    }
   ],
   "source": [
    "from sklearn.naive_bayes import GaussianNB\n",
    "from sklearn.model_selection import cross_val_score\n",
    "bay_classifier = GaussianNB()\n",
    "bay_classifier.fit(x_train_bay, y_train_bay)"
   ]
  },
  {
   "cell_type": "code",
   "execution_count": 42,
   "id": "cbc880f5",
   "metadata": {},
   "outputs": [
    {
     "data": {
      "text/plain": [
       "0.9017341040462428"
      ]
     },
     "execution_count": 42,
     "metadata": {},
     "output_type": "execute_result"
    }
   ],
   "source": [
    "# calculate accuracy score of model \n",
    "from sklearn.metrics import accuracy_score\n",
    "y_pred_bay = bay_classifier.predict(x_test_bay)\n",
    "accuracy_score(y_test_bay, y_pred_bay) "
   ]
  },
  {
   "cell_type": "markdown",
   "id": "3f32122f",
   "metadata": {},
   "source": [
    "### CV check"
   ]
  },
  {
   "cell_type": "code",
   "execution_count": 43,
   "id": "88699c98",
   "metadata": {},
   "outputs": [
    {
     "name": "stdout",
     "output_type": "stream",
     "text": [
      "Cross-validation scores:[0.84057971 0.84057971 0.85507246 0.84057971 0.88405797 0.85507246\n",
      " 0.82608696 0.84057971 0.84057971 0.86956522]\n",
      "Average cross-validation score: 0.8493\n"
     ]
    }
   ],
   "source": [
    "# 10-fold CV \n",
    "scores = cross_val_score(bay_classifier, x_train_bay, y_train_bay, cv = 10, scoring='accuracy')\n",
    "print('Cross-validation scores:{}'.format(scores))\n",
    "print('Average cross-validation score: {:.4f}'.format(scores.mean()))\n",
    "#Our original model accuracy is 0.9017, but the mean cross-validation accuracy is 0.8493. \n",
    "#So, the 10-fold cross-validation accuracy does not result in performance improvement for this model."
   ]
  },
  {
   "cell_type": "markdown",
   "id": "9fe54ac6",
   "metadata": {},
   "source": [
    "### Check for overfitting"
   ]
  },
  {
   "cell_type": "code",
   "execution_count": 44,
   "id": "4c91d4d5",
   "metadata": {},
   "outputs": [
    {
     "name": "stdout",
     "output_type": "stream",
     "text": [
      "Training set score: 0.8565\n",
      "Test set score: 0.9017\n"
     ]
    }
   ],
   "source": [
    "print('Training set score: {:.4f}'.format(bay_classifier.score(x_train_bay, y_train_bay)))\n",
    "print('Test set score: {:.4f}'.format(bay_classifier.score(x_test_bay, y_test_bay)))\n",
    "#The training-set accuracy score is 0.86 while the test-set accuracy to be 0.90. \n",
    "#These two values are quite comparable. So, there is no sign of overfitting."
   ]
  },
  {
   "cell_type": "markdown",
   "id": "d13f9d50",
   "metadata": {},
   "source": [
    "## Visualizations"
   ]
  },
  {
   "cell_type": "code",
   "execution_count": 45,
   "id": "1fba232e",
   "metadata": {},
   "outputs": [
    {
     "name": "stdout",
     "output_type": "stream",
     "text": [
      "Data visualization of original test data\n"
     ]
    },
    {
     "data": {
      "text/plain": [
       "<matplotlib.legend.Legend at 0x7ffb22286220>"
      ]
     },
     "execution_count": 45,
     "metadata": {},
     "output_type": "execute_result"
    },
    {
     "data": {
      "image/png": "[encoded data removed]",
      "text/plain": [
       "<Figure size 432x288 with 1 Axes>"
      ]
     },
     "metadata": {
      "needs_background": "light"
     },
     "output_type": "display_data"
    }
   ],
   "source": [
    "#plot original data\n",
    "print('Data visualization of original test data')\n",
    "plt.plot(x_test_bay[y_test_bay==0,5],x_test_bay[y_test_bay==0,11],'g.')\n",
    "plt.plot(x_test_bay[y_test_bay==1,5],x_test_bay[y_test_bay==1,11],'r.')\n",
    "plt.xlabel('age', fontsize=16)\n",
    "plt.ylabel('diff_sym_hos', fontsize=16)\n",
    "plt.ylim(-1,4)\n",
    "plt.xlim(-1,1)\n",
    "plt.legend(['recovered test','death test'],loc='upper right')"
   ]
  },
  {
   "cell_type": "code",
   "execution_count": 46,
   "id": "aa2ea265",
   "metadata": {},
   "outputs": [
    {
     "name": "stdout",
     "output_type": "stream",
     "text": [
      "Data visualization of predicted data\n"
     ]
    },
    {
     "data": {
      "text/plain": [
       "<matplotlib.legend.Legend at 0x7ffb222d2fd0>"
      ]
     },
     "execution_count": 46,
     "metadata": {},
     "output_type": "execute_result"
    },
    {
     "data": {
      "image/png": "[encoded data removed]",
      "text/plain": [
       "<Figure size 432x288 with 1 Axes>"
      ]
     },
     "metadata": {
      "needs_background": "light"
     },
     "output_type": "display_data"
    }
   ],
   "source": [
    "#plot predicted data\n",
    "print('Data visualization of predicted data')\n",
    "plt.plot(x_test_bay[y_pred_bay==0,5],x_test_bay[y_pred_bay==0,11],'g.')\n",
    "plt.plot(x_test_bay[y_pred_bay==1,5],x_test_bay[y_pred_bay==1,11],'r.')\n",
    "plt.xlabel('age', fontsize=16)\n",
    "plt.ylabel('diff_sym_hos', fontsize=16)\n",
    "plt.ylim(-1,4)\n",
    "plt.xlim(-1,1)\n",
    "plt.legend(['recovered pred','death pred'],loc='upper right')"
   ]
  },
  {
   "cell_type": "markdown",
   "id": "e0bee1eb",
   "metadata": {},
   "source": [
    "## Model Evaluation "
   ]
  },
  {
   "cell_type": "markdown",
   "id": "c01989c4",
   "metadata": {},
   "source": [
    "For a binary classification problem, we would have a 2 x 2 matrix \n",
    "\n",
    "                                        TN | FP\n",
    "                                        -------\n",
    "                                        FN | TP\n",
    "                                       "
   ]
  },
  {
   "cell_type": "code",
   "execution_count": 47,
   "id": "66867532",
   "metadata": {
    "scrolled": true
   },
   "outputs": [
    {
     "name": "stdout",
     "output_type": "stream",
     "text": [
      "[[146   9]\n",
      " [  8  10]]\n"
     ]
    }
   ],
   "source": [
    "from sklearn.metrics import confusion_matrix\n",
    "print(confusion_matrix(y_test_bay, y_pred_bay))"
   ]
  },
  {
   "cell_type": "markdown",
   "id": "20f7c180",
   "metadata": {},
   "source": [
    "- Precision refers to the number of true positives divided by the total number of positive predictions (i.e., the number of true positives plus the number of false positives).\n",
    "\n",
    "$$\n",
    "    Precision = \\frac{TP}{TP + FP}.\n",
    "$$\n",
    "\n",
    "- Recall is the measure of our model correctly identifying True Positives.It is the number of true positives divided by (the number of true positives plus the number of false negatives).\n",
    "\n",
    "$$\n",
    "    Recall = \\frac{TP}{TP + FN}.\n",
    "$$\n",
    "\n",
    "- F1 score: Precision and Recall are the two building blocks of the F1 score. The goal of the F1 score is to combine the precision and recall metrics into a single metric.The F1 score is defined as the harmonic mean of precision and recall.\n",
    "\n",
    "$$\n",
    "    F1 = \\frac{2 * precision * recall}{precision + recall}.\n",
    "$$\n",
    "\n",
    "\n"
   ]
  },
  {
   "cell_type": "code",
   "execution_count": 48,
   "id": "e837648d",
   "metadata": {},
   "outputs": [
    {
     "name": "stdout",
     "output_type": "stream",
     "text": [
      "Accuracy: 0.902\n",
      "Precision: 0.526\n",
      "Recall: 0.556\n",
      "F-Measure: 0.541\n"
     ]
    }
   ],
   "source": [
    "from sklearn.metrics import accuracy_score\n",
    "from sklearn.metrics import recall_score\n",
    "from sklearn.metrics import f1_score\n",
    "from sklearn.metrics import precision_score\n",
    "# calculate accuracy\n",
    "bay_accuracy = accuracy_score(y_test_bay, y_pred_bay)\n",
    "print('Accuracy: %.3f' % bay_accuracy)\n",
    "# calculate precision\n",
    "bay_precision = precision_score(y_test_bay, y_pred_bay, average='binary')\n",
    "print('Precision: %.3f' % bay_precision)\n",
    "# calculate recall\n",
    "bay_recall = recall_score(y_test_bay, y_pred_bay, average='binary')\n",
    "print('Recall: %.3f' % bay_recall)\n",
    "# calculate f1-score\n",
    "bay_f1_score = f1_score(y_test_bay, y_pred_bay, average='binary')\n",
    "print('F-Measure: %.3f' % bay_f1_score)"
   ]
  },
  {
   "cell_type": "markdown",
   "id": "9ad5dd63",
   "metadata": {},
   "source": [
    "The ROC curve shows the trade-off between sensitivity (or TPR) and FPR (1 – specificity). Classifiers that give curves closer to the top-left corner indicate a better performance. As a baseline, a random classifier is expected to give points lying along the diagonal (FPR = TPR). The closer the curve comes to the 45-degree diagonal of the ROC space, the less accurate the test.\n",
    "To compare different classifiers, it can be useful to summarize the performance of each classifier into a single measure. One common approach is to calculate the area under the ROC curve, which is abbreviated to AUC."
   ]
  },
  {
   "cell_type": "code",
   "execution_count": 49,
   "id": "289b1c83",
   "metadata": {},
   "outputs": [
    {
     "data": {
      "image/png": "[encoded data removed]",
      "text/plain": [
       "<Figure size 500x400 with 1 Axes>"
      ]
     },
     "metadata": {
      "needs_background": "light"
     },
     "output_type": "display_data"
    }
   ],
   "source": [
    "# plotting ROC using tpr, fpr \n",
    "# calculating AUC \n",
    "from sklearn import metrics\n",
    "# predict probabilities\n",
    "y_score_bay = bay_classifier.predict_proba(x_test_bay)\n",
    "# keep probabilities for the positive outcome only\n",
    "y_score_bay = y_score_bay[:, 1]\n",
    "#calculate\n",
    "fpr, tpr, threshold =  metrics.roc_curve(y_test_bay, y_score_bay)\n",
    "auc = metrics.roc_auc_score(y_test_bay, y_score_bay)\n",
    "#plot\n",
    "plt.figure(figsize=(5, 4), dpi=100)\n",
    "plt.title(\"AUC & ROC Curve\")\n",
    "plt.plot(fpr, tpr, 'b', label = 'AUC = %0.3f' % auc)\n",
    "plt.fill_between(fpr, tpr, facecolor='lightblue', alpha=0.7)\n",
    "plt.legend(loc = 'lower right')\n",
    "plt.plot([0, 1], [0, 1],'r--')\n",
    "plt.xlim([0, 1])\n",
    "plt.ylim([0, 1])\n",
    "plt.ylabel('True Positive Rate')\n",
    "plt.xlabel('False Positive Rate')\n",
    "plt.show()"
   ]
  },
  {
   "cell_type": "markdown",
   "id": "43cffd73",
   "metadata": {},
   "source": [
    "# SVM Classifier\n"
   ]
  },
  {
   "cell_type": "markdown",
   "id": "52e90744",
   "metadata": {},
   "source": [
    "## Feature Selection SVM"
   ]
  },
  {
   "cell_type": "code",
   "execution_count": 190,
   "id": "2fc685f4",
   "metadata": {},
   "outputs": [
    {
     "name": "stdout",
     "output_type": "stream",
     "text": [
      "Before feature selection --> dimensions\n",
      "(863, 51)\n",
      "After feature selection --> dimensions\n",
      "(863, 19)\n"
     ]
    }
   ],
   "source": [
    "from sklearn.feature_selection import SelectKBest\n",
    "from sklearn.feature_selection import f_classif \n",
    "print(\"Before feature selection --> dimensions\")\n",
    "print(X.shape)\n",
    "X_SVM = SelectKBest(f_classif , k=19).fit_transform(X,Y) \n",
    "#features selected are \n",
    "#1 (L45)\n",
    "#2 (L44)\n",
    "#8 (L85)\n",
    "#9 (L117)\n",
    "#20 (C18)\n",
    "#21 (C8)\n",
    "#22 (C13)\n",
    "#24 (C12)\n",
    "#26 (C11)\n",
    "#35 (C2)\n",
    "#40 (gender)\n",
    "#41 (age)\n",
    "#42 (vis_wuhan)\n",
    "#43 (from_wuhan)\n",
    "#44 (symptom1)\n",
    "#45 (symptom2)\n",
    "#46 (symptom3)\n",
    "#47 (symptom4)\n",
    "#50 (diff_sym_hos)\n",
    "print(\"After feature selection --> dimensions\")\n",
    "print(X_SVM.shape)"
   ]
  },
  {
   "cell_type": "markdown",
   "id": "9a523cae",
   "metadata": {},
   "source": [
    "## Splitting the data"
   ]
  },
  {
   "cell_type": "code",
   "execution_count": 191,
   "id": "9b1d81ee",
   "metadata": {},
   "outputs": [],
   "source": [
    "# 80% training\n",
    "# 20% test\n",
    "from sklearn.model_selection import train_test_split\n",
    "x_train_SVM, x_test_SVM, y_train_SVM, y_test_SVM = train_test_split(X_SVM, Y, test_size=0.20,random_state=3)"
   ]
  },
  {
   "cell_type": "markdown",
   "id": "bb14f1eb",
   "metadata": {},
   "source": [
    "## CV check without optimizing hyperparameters"
   ]
  },
  {
   "cell_type": "code",
   "execution_count": 192,
   "id": "d0aee35a",
   "metadata": {},
   "outputs": [
    {
     "name": "stdout",
     "output_type": "stream",
     "text": [
      "Cross-validation scores:[0.91304348 0.95652174 0.92753623 0.89855072 0.94202899 0.94202899\n",
      " 0.97101449 0.95652174 0.95652174 0.92753623]\n",
      "10-fold cross validation average accuracy: 0.939\n"
     ]
    }
   ],
   "source": [
    "from sklearn.svm import SVC\n",
    "# checking accuracy of model without choosing parameters \n",
    "from sklearn import model_selection\n",
    "from sklearn.model_selection import cross_val_score\n",
    "model_SVM = SVC()\n",
    "scores_SVM = model_selection.cross_val_score(model_SVM, x_train_SVM, y_train_SVM, cv=10, scoring='accuracy')\n",
    "print('Cross-validation scores:{}'.format(scores_SVM))\n",
    "print(\"10-fold cross validation average accuracy: %.3f\" % (scores_SVM.mean()))"
   ]
  },
  {
   "cell_type": "markdown",
   "id": "65dd894b",
   "metadata": {},
   "source": [
    "## GridSearchCV"
   ]
  },
  {
   "cell_type": "code",
   "execution_count": 193,
   "id": "570afa05",
   "metadata": {},
   "outputs": [
    {
     "name": "stdout",
     "output_type": "stream",
     "text": [
      "tuned hpyerparameters :(best parameters)  {'C': 100, 'gamma': 0.001, 'kernel': 'rbf'}\n",
      "accuracy : 0.9710144927536233\n"
     ]
    }
   ],
   "source": [
    "# Grid search for getting optimum parameters\n",
    "from sklearn.model_selection import GridSearchCV\n",
    "# list that holds parameter values\n",
    "params = {'C': [0.1, 1, 10, 100, 1000],\n",
    "              'gamma': [1, 0.1, 0.01, 0.001, 0.0001],\n",
    "              'kernel': ['linear', 'poly','rbf','sigmoid']}\n",
    "# model CV\n",
    "clf_SVM=SVC()\n",
    "clf_cv_SVM=GridSearchCV(clf_SVM,params,cv=10)\n",
    "clf_cv_SVM.fit(x_train_SVM,y_train_SVM)\n",
    "#printing best parameters and the accuracy of that model \n",
    "print(\"tuned hpyerparameters :(best parameters) \",clf_cv_SVM.best_params_)\n",
    "print(\"accuracy :\",clf_cv_SVM.best_score_)"
   ]
  },
  {
   "cell_type": "markdown",
   "id": "37f5df30",
   "metadata": {},
   "source": [
    "##### We can see that choosing the right parameters resulted in better accuracy"
   ]
  },
  {
   "cell_type": "markdown",
   "id": "714e370e",
   "metadata": {},
   "source": [
    "## Implementing the model"
   ]
  },
  {
   "cell_type": "code",
   "execution_count": 194,
   "id": "1bdb4b16",
   "metadata": {},
   "outputs": [
    {
     "name": "stdout",
     "output_type": "stream",
     "text": [
      "Accuracy on test data = 0.960\n"
     ]
    }
   ],
   "source": [
    "# instantiate the model \n",
    "SVM_classifier = SVC(C= 100, gamma = 0.001, kernel= 'rbf',probability=True)\n",
    "\n",
    "# fit the model with data\n",
    "SVM_classifier.fit(x_train_SVM,y_train_SVM)\n",
    "\n",
    "y_pred_SVM=SVM_classifier.predict(x_test_SVM)\n",
    "\n",
    "# Measure accuracy on test data \n",
    "acc_SVM = np.mean(y_pred_SVM == y_test_SVM)\n",
    "print(\"Accuracy on test data = %.3f\" % acc_SVM)"
   ]
  },
  {
   "cell_type": "markdown",
   "id": "91bc11d0",
   "metadata": {},
   "source": [
    "## Visualizations"
   ]
  },
  {
   "cell_type": "code",
   "execution_count": 195,
   "id": "7d019136",
   "metadata": {},
   "outputs": [
    {
     "name": "stdout",
     "output_type": "stream",
     "text": [
      "Data visualization of original test data\n"
     ]
    },
    {
     "data": {
      "text/plain": [
       "<matplotlib.legend.Legend at 0x7f8bba9c3ee0>"
      ]
     },
     "execution_count": 195,
     "metadata": {},
     "output_type": "execute_result"
    },
    {
     "data": {
      "image/png": "[encoded data removed]",
      "text/plain": [
       "<Figure size 432x288 with 1 Axes>"
      ]
     },
     "metadata": {
      "needs_background": "light"
     },
     "output_type": "display_data"
    }
   ],
   "source": [
    "#plot original data\n",
    "print('Data visualization of original test data')\n",
    "plt.plot(x_test_SVM[y_test_SVM==0,11],x_test_SVM[y_test_SVM==0,18],'g.')\n",
    "plt.plot(x_test_SVM[y_test_SVM==1,11],x_test_SVM[y_test_SVM==1,18],'r.')\n",
    "plt.xlabel('age', fontsize=16)\n",
    "plt.ylabel('diff_sym_hos', fontsize=16)\n",
    "plt.ylim(-1,4)\n",
    "plt.xlim(-1,1)\n",
    "plt.legend(['recovered test','death test'],loc='upper right')"
   ]
  },
  {
   "cell_type": "code",
   "execution_count": 196,
   "id": "e0d75cb6",
   "metadata": {},
   "outputs": [
    {
     "name": "stdout",
     "output_type": "stream",
     "text": [
      "Data visualization of predicted data\n"
     ]
    },
    {
     "data": {
      "text/plain": [
       "<matplotlib.legend.Legend at 0x7f8bbdd1e400>"
      ]
     },
     "execution_count": 196,
     "metadata": {},
     "output_type": "execute_result"
    },
    {
     "data": {
      "image/png": "[encoded data removed]",
      "text/plain": [
       "<Figure size 432x288 with 1 Axes>"
      ]
     },
     "metadata": {
      "needs_background": "light"
     },
     "output_type": "display_data"
    }
   ],
   "source": [
    "#plot predicted data\n",
    "print('Data visualization of predicted data')\n",
    "plt.plot(x_test_SVM[y_pred_SVM==0,11],x_test_SVM[y_pred_SVM==0,18],'g.')\n",
    "plt.plot(x_test_SVM[y_pred_SVM==1,11],x_test_SVM[y_pred_SVM==1,18],'r.')\n",
    "plt.xlabel('age', fontsize=16)\n",
    "plt.ylabel('diff_sym_hos', fontsize=16)\n",
    "plt.ylim(-1,4)\n",
    "plt.xlim(-1,1)\n",
    "plt.legend(['recovered pred','death pred'],loc='upper right')"
   ]
  },
  {
   "cell_type": "code",
   "execution_count": 197,
   "id": "55c5011a",
   "metadata": {},
   "outputs": [],
   "source": [
    "# decision boundary visualization"
   ]
  },
  {
   "cell_type": "markdown",
   "id": "04c6b7cd",
   "metadata": {},
   "source": [
    "# Model Evaluation"
   ]
  },
  {
   "cell_type": "markdown",
   "id": "ce6cfc13",
   "metadata": {},
   "source": [
    "For a binary classification problem, we would have a 2 x 2 matrix \n",
    "\n",
    "                                        TN | FP\n",
    "                                        -------\n",
    "                                        FN | TP\n",
    "                                       "
   ]
  },
  {
   "cell_type": "code",
   "execution_count": 198,
   "id": "20d3690f",
   "metadata": {},
   "outputs": [
    {
     "name": "stdout",
     "output_type": "stream",
     "text": [
      "[[152   3]\n",
      " [  4  14]]\n"
     ]
    }
   ],
   "source": [
    "from sklearn.metrics import confusion_matrix\n",
    "print(confusion_matrix(y_test_SVM, y_pred_SVM))"
   ]
  },
  {
   "cell_type": "markdown",
   "id": "a75c2cdb",
   "metadata": {},
   "source": [
    "- Precision refers to the number of true positives divided by the total number of positive predictions (i.e., the number of true positives plus the number of false positives).\n",
    "\n",
    "$$\n",
    "    Precision = \\frac{TP}{TP + FP}.\n",
    "$$\n",
    "\n",
    "- Recall is the measure of our model correctly identifying True Positives.It is the number of true positives divided by (the number of true positives plus the number of false negatives).\n",
    "\n",
    "$$\n",
    "    Recall = \\frac{TP}{TP + FN}.\n",
    "$$\n",
    "\n",
    "- F1 score: Precision and Recall are the two building blocks of the F1 score. The goal of the F1 score is to combine the precision and recall metrics into a single metric.The F1 score is defined as the harmonic mean of precision and recall.\n",
    "\n",
    "$$\n",
    "    F1 = \\frac{2 * precision * recall}{precision + recall}.\n",
    "$$\n",
    "\n",
    "\n"
   ]
  },
  {
   "cell_type": "code",
   "execution_count": 199,
   "id": "c918a301",
   "metadata": {},
   "outputs": [
    {
     "name": "stdout",
     "output_type": "stream",
     "text": [
      "Accuracy: 0.960\n",
      "Precision: 0.824\n",
      "Recall: 0.778\n",
      "F-Measure: 0.800\n"
     ]
    }
   ],
   "source": [
    "from sklearn.metrics import accuracy_score\n",
    "from sklearn.metrics import recall_score\n",
    "from sklearn.metrics import f1_score\n",
    "from sklearn.metrics import precision_score\n",
    "# calculate accuracy\n",
    "SVM_accuracy = accuracy_score(y_test_SVM, y_pred_SVM)\n",
    "print('Accuracy: %.3f' % SVM_accuracy)\n",
    "# calculate precision\n",
    "SVM_precision = precision_score(y_test_SVM, y_pred_SVM, average='binary')\n",
    "print('Precision: %.3f' % SVM_precision)\n",
    "# calculate recall\n",
    "SVM_recall = recall_score(y_test_SVM, y_pred_SVM, average='binary')\n",
    "print('Recall: %.3f' % SVM_recall)\n",
    "# calculate f1-score\n",
    "SVM_f1_score = f1_score(y_test_SVM, y_pred_SVM, average='binary')\n",
    "print('F-Measure: %.3f' % SVM_f1_score)"
   ]
  },
  {
   "cell_type": "markdown",
   "id": "a035f78d",
   "metadata": {},
   "source": [
    "The ROC curve shows the trade-off between sensitivity (or TPR) and FPR (1 – specificity). Classifiers that give curves closer to the top-left corner indicate a better performance. As a baseline, a random classifier is expected to give points lying along the diagonal (FPR = TPR). The closer the curve comes to the 45-degree diagonal of the ROC space, the less accurate the test.\n",
    "To compare different classifiers, it can be useful to summarize the performance of each classifier into a single measure. One common approach is to calculate the area under the ROC curve, which is abbreviated to AUC."
   ]
  },
  {
   "cell_type": "code",
   "execution_count": 200,
   "id": "5e35ea91",
   "metadata": {},
   "outputs": [
    {
     "data": {
      "image/png": "[encoded data removed]",
      "text/plain": [
       "<Figure size 500x400 with 1 Axes>"
      ]
     },
     "metadata": {
      "needs_background": "light"
     },
     "output_type": "display_data"
    }
   ],
   "source": [
    "# plotting ROC using tpr, fpr \n",
    "# calculating AUC \n",
    "from sklearn import metrics\n",
    "# predict probabilities\n",
    "y_score_SVM = SVM_classifier.predict_proba(x_test_SVM)\n",
    "# keep probabilities for the positive outcome only\n",
    "y_score_SVM = y_score_SVM[:, 1]\n",
    "#calculate\n",
    "fpr, tpr, threshold =  metrics.roc_curve(y_test_SVM, y_score_SVM)\n",
    "auc = metrics.roc_auc_score(y_test_SVM, y_score_SVM)\n",
    "#plot\n",
    "plt.figure(figsize=(5, 4), dpi=100)\n",
    "plt.title(\"AUC & ROC Curve\")\n",
    "plt.plot(fpr, tpr, 'b', label = 'AUC = %0.3f' % auc)\n",
    "plt.fill_between(fpr, tpr, facecolor='lightblue', alpha=0.7)\n",
    "plt.legend(loc = 'lower right')\n",
    "plt.plot([0, 1], [0, 1],'r--')\n",
    "plt.xlim([0, 1])\n",
    "plt.ylim([0, 1])\n",
    "plt.ylabel('True Positive Rate')\n",
    "plt.xlabel('False Positive Rate')\n",
    "plt.show()"
   ]
  },
  {
   "cell_type": "code",
   "execution_count": null,
   "id": "9049da57",
   "metadata": {},
   "outputs": [],
   "source": []
  },
  {
   "cell_type": "code",
   "execution_count": null,
   "id": "c946a81f",
   "metadata": {},
   "outputs": [],
   "source": []
  }
 ],
 "metadata": {
  "kernelspec": {
   "display_name": "Python 3 (ipykernel)",
   "language": "python",
   "name": "python3"
  },
  "language_info": {
   "codemirror_mode": {
    "name": "ipython",
    "version": 3
   },
   "file_extension": ".py",
   "mimetype": "text/x-python",
   "name": "python",
   "nbconvert_exporter": "python",
   "pygments_lexer": "ipython3",
   "version": "3.8.12"
  }
 },
 "nbformat": 4,
 "nbformat_minor": 5
}
